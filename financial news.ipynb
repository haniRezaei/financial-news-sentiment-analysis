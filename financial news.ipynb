{
  "nbformat": 4,
  "nbformat_minor": 0,
  "metadata": {
    "colab": {
      "provenance": []
    },
    "kernelspec": {
      "name": "python3",
      "display_name": "Python 3"
    },
    "language_info": {
      "name": "python"
    }
  },
  "cells": [
    {
      "cell_type": "code",
      "execution_count": null,
      "metadata": {
        "id": "3jcdxDPtyZY-"
      },
      "outputs": [],
      "source": [
        "import numpy as np\n",
        "import pandas as pd\n",
        "import matplotlib.pyplot as plt\n",
        "import seaborn as sns\n",
        "import re\n",
        "import nltk\n",
        "from nltk.tokenize import word_tokenize\n",
        "from nltk.corpus import stopwords\n",
        "from nltk.stem import WordNetLemmatizer\n",
        "from sklearn.preprocessing import LabelEncoder\n",
        "from imblearn.over_sampling import SMOTE\n",
        "from sklearn.feature_extraction.text import CountVectorizer\n",
        "from sklearn.feature_extraction.text import TfidfVectorizer\n",
        "from sklearn.linear_model import LogisticRegression\n",
        "from sklearn.neighbors import KNeighborsClassifier\n",
        "from sklearn.svm import SVC\n",
        "from sklearn.tree import DecisionTreeClassifier\n",
        "from sklearn.naive_bayes import MultinomialNB\n",
        "from sklearn.discriminant_analysis import LinearDiscriminantAnalysis\n",
        "from xgboost import XGBClassifier\n",
        "from sklearn.model_selection import train_test_split\n",
        "from sklearn.metrics import classification_report\n",
        "from sklearn.metrics import accuracy_score, confusion_matrix\n",
        "from sklearn.metrics import precision_score, recall_score\n",
        "from sklearn.model_selection import StratifiedKFold\n",
        "from sklearn.model_selection import cross_val_score\n",
        "from imblearn.over_sampling import SMOTE\n",
        "from imblearn.pipeline import Pipeline as ImbPipeline\n",
        "from sklearn.pipeline import Pipeline"
      ]
    },
    {
      "cell_type": "code",
      "source": [
        "from google.colab import files\n",
        "uploaded = files.upload()"
      ],
      "metadata": {
        "colab": {
          "base_uri": "https://localhost:8080/",
          "height": 73
        },
        "id": "VOYKbUhKyh-H",
        "outputId": "ed45774e-14e5-4b7e-9dee-ba9f64cc9abf"
      },
      "execution_count": null,
      "outputs": [
        {
          "output_type": "display_data",
          "data": {
            "text/plain": [
              "<IPython.core.display.HTML object>"
            ],
            "text/html": [
              "\n",
              "     <input type=\"file\" id=\"files-ec9c6118-b5ab-4258-8b9f-fa79b72dbf7a\" name=\"files[]\" multiple disabled\n",
              "        style=\"border:none\" />\n",
              "     <output id=\"result-ec9c6118-b5ab-4258-8b9f-fa79b72dbf7a\">\n",
              "      Upload widget is only available when the cell has been executed in the\n",
              "      current browser session. Please rerun this cell to enable.\n",
              "      </output>\n",
              "      <script>// Copyright 2017 Google LLC\n",
              "//\n",
              "// Licensed under the Apache License, Version 2.0 (the \"License\");\n",
              "// you may not use this file except in compliance with the License.\n",
              "// You may obtain a copy of the License at\n",
              "//\n",
              "//      http://www.apache.org/licenses/LICENSE-2.0\n",
              "//\n",
              "// Unless required by applicable law or agreed to in writing, software\n",
              "// distributed under the License is distributed on an \"AS IS\" BASIS,\n",
              "// WITHOUT WARRANTIES OR CONDITIONS OF ANY KIND, either express or implied.\n",
              "// See the License for the specific language governing permissions and\n",
              "// limitations under the License.\n",
              "\n",
              "/**\n",
              " * @fileoverview Helpers for google.colab Python module.\n",
              " */\n",
              "(function(scope) {\n",
              "function span(text, styleAttributes = {}) {\n",
              "  const element = document.createElement('span');\n",
              "  element.textContent = text;\n",
              "  for (const key of Object.keys(styleAttributes)) {\n",
              "    element.style[key] = styleAttributes[key];\n",
              "  }\n",
              "  return element;\n",
              "}\n",
              "\n",
              "// Max number of bytes which will be uploaded at a time.\n",
              "const MAX_PAYLOAD_SIZE = 100 * 1024;\n",
              "\n",
              "function _uploadFiles(inputId, outputId) {\n",
              "  const steps = uploadFilesStep(inputId, outputId);\n",
              "  const outputElement = document.getElementById(outputId);\n",
              "  // Cache steps on the outputElement to make it available for the next call\n",
              "  // to uploadFilesContinue from Python.\n",
              "  outputElement.steps = steps;\n",
              "\n",
              "  return _uploadFilesContinue(outputId);\n",
              "}\n",
              "\n",
              "// This is roughly an async generator (not supported in the browser yet),\n",
              "// where there are multiple asynchronous steps and the Python side is going\n",
              "// to poll for completion of each step.\n",
              "// This uses a Promise to block the python side on completion of each step,\n",
              "// then passes the result of the previous step as the input to the next step.\n",
              "function _uploadFilesContinue(outputId) {\n",
              "  const outputElement = document.getElementById(outputId);\n",
              "  const steps = outputElement.steps;\n",
              "\n",
              "  const next = steps.next(outputElement.lastPromiseValue);\n",
              "  return Promise.resolve(next.value.promise).then((value) => {\n",
              "    // Cache the last promise value to make it available to the next\n",
              "    // step of the generator.\n",
              "    outputElement.lastPromiseValue = value;\n",
              "    return next.value.response;\n",
              "  });\n",
              "}\n",
              "\n",
              "/**\n",
              " * Generator function which is called between each async step of the upload\n",
              " * process.\n",
              " * @param {string} inputId Element ID of the input file picker element.\n",
              " * @param {string} outputId Element ID of the output display.\n",
              " * @return {!Iterable<!Object>} Iterable of next steps.\n",
              " */\n",
              "function* uploadFilesStep(inputId, outputId) {\n",
              "  const inputElement = document.getElementById(inputId);\n",
              "  inputElement.disabled = false;\n",
              "\n",
              "  const outputElement = document.getElementById(outputId);\n",
              "  outputElement.innerHTML = '';\n",
              "\n",
              "  const pickedPromise = new Promise((resolve) => {\n",
              "    inputElement.addEventListener('change', (e) => {\n",
              "      resolve(e.target.files);\n",
              "    });\n",
              "  });\n",
              "\n",
              "  const cancel = document.createElement('button');\n",
              "  inputElement.parentElement.appendChild(cancel);\n",
              "  cancel.textContent = 'Cancel upload';\n",
              "  const cancelPromise = new Promise((resolve) => {\n",
              "    cancel.onclick = () => {\n",
              "      resolve(null);\n",
              "    };\n",
              "  });\n",
              "\n",
              "  // Wait for the user to pick the files.\n",
              "  const files = yield {\n",
              "    promise: Promise.race([pickedPromise, cancelPromise]),\n",
              "    response: {\n",
              "      action: 'starting',\n",
              "    }\n",
              "  };\n",
              "\n",
              "  cancel.remove();\n",
              "\n",
              "  // Disable the input element since further picks are not allowed.\n",
              "  inputElement.disabled = true;\n",
              "\n",
              "  if (!files) {\n",
              "    return {\n",
              "      response: {\n",
              "        action: 'complete',\n",
              "      }\n",
              "    };\n",
              "  }\n",
              "\n",
              "  for (const file of files) {\n",
              "    const li = document.createElement('li');\n",
              "    li.append(span(file.name, {fontWeight: 'bold'}));\n",
              "    li.append(span(\n",
              "        `(${file.type || 'n/a'}) - ${file.size} bytes, ` +\n",
              "        `last modified: ${\n",
              "            file.lastModifiedDate ? file.lastModifiedDate.toLocaleDateString() :\n",
              "                                    'n/a'} - `));\n",
              "    const percent = span('0% done');\n",
              "    li.appendChild(percent);\n",
              "\n",
              "    outputElement.appendChild(li);\n",
              "\n",
              "    const fileDataPromise = new Promise((resolve) => {\n",
              "      const reader = new FileReader();\n",
              "      reader.onload = (e) => {\n",
              "        resolve(e.target.result);\n",
              "      };\n",
              "      reader.readAsArrayBuffer(file);\n",
              "    });\n",
              "    // Wait for the data to be ready.\n",
              "    let fileData = yield {\n",
              "      promise: fileDataPromise,\n",
              "      response: {\n",
              "        action: 'continue',\n",
              "      }\n",
              "    };\n",
              "\n",
              "    // Use a chunked sending to avoid message size limits. See b/62115660.\n",
              "    let position = 0;\n",
              "    do {\n",
              "      const length = Math.min(fileData.byteLength - position, MAX_PAYLOAD_SIZE);\n",
              "      const chunk = new Uint8Array(fileData, position, length);\n",
              "      position += length;\n",
              "\n",
              "      const base64 = btoa(String.fromCharCode.apply(null, chunk));\n",
              "      yield {\n",
              "        response: {\n",
              "          action: 'append',\n",
              "          file: file.name,\n",
              "          data: base64,\n",
              "        },\n",
              "      };\n",
              "\n",
              "      let percentDone = fileData.byteLength === 0 ?\n",
              "          100 :\n",
              "          Math.round((position / fileData.byteLength) * 100);\n",
              "      percent.textContent = `${percentDone}% done`;\n",
              "\n",
              "    } while (position < fileData.byteLength);\n",
              "  }\n",
              "\n",
              "  // All done.\n",
              "  yield {\n",
              "    response: {\n",
              "      action: 'complete',\n",
              "    }\n",
              "  };\n",
              "}\n",
              "\n",
              "scope.google = scope.google || {};\n",
              "scope.google.colab = scope.google.colab || {};\n",
              "scope.google.colab._files = {\n",
              "  _uploadFiles,\n",
              "  _uploadFilesContinue,\n",
              "};\n",
              "})(self);\n",
              "</script> "
            ]
          },
          "metadata": {}
        },
        {
          "output_type": "stream",
          "name": "stdout",
          "text": [
            "Saving financial sentiment analysis.csv to financial sentiment analysis (2).csv\n"
          ]
        }
      ]
    },
    {
      "cell_type": "code",
      "source": [
        "df = pd.read_csv('financial sentiment analysis.csv')"
      ],
      "metadata": {
        "id": "tm0i1_deymBB"
      },
      "execution_count": null,
      "outputs": []
    },
    {
      "cell_type": "code",
      "source": [
        "df.head()"
      ],
      "metadata": {
        "colab": {
          "base_uri": "https://localhost:8080/",
          "height": 206
        },
        "id": "51WfttpS1wau",
        "outputId": "99a7b697-05f2-4ac3-f9a4-8dce742dd01a"
      },
      "execution_count": null,
      "outputs": [
        {
          "output_type": "execute_result",
          "data": {
            "text/plain": [
              "                                            Sentence Sentiment\n",
              "0  The GeoSolutions technology will leverage Bene...  positive\n",
              "1  $ESI on lows, down $1.50 to $2.50 BK a real po...  negative\n",
              "2  For the last quarter of 2010 , Componenta 's n...  positive\n",
              "3  According to the Finnish-Russian Chamber of Co...   neutral\n",
              "4  The Swedish buyout firm has sold its remaining...   neutral"
            ],
            "text/html": [
              "\n",
              "  <div id=\"df-7b2fecad-b512-4db1-be2e-7b6f8bbdbbaf\" class=\"colab-df-container\">\n",
              "    <div>\n",
              "<style scoped>\n",
              "    .dataframe tbody tr th:only-of-type {\n",
              "        vertical-align: middle;\n",
              "    }\n",
              "\n",
              "    .dataframe tbody tr th {\n",
              "        vertical-align: top;\n",
              "    }\n",
              "\n",
              "    .dataframe thead th {\n",
              "        text-align: right;\n",
              "    }\n",
              "</style>\n",
              "<table border=\"1\" class=\"dataframe\">\n",
              "  <thead>\n",
              "    <tr style=\"text-align: right;\">\n",
              "      <th></th>\n",
              "      <th>Sentence</th>\n",
              "      <th>Sentiment</th>\n",
              "    </tr>\n",
              "  </thead>\n",
              "  <tbody>\n",
              "    <tr>\n",
              "      <th>0</th>\n",
              "      <td>The GeoSolutions technology will leverage Bene...</td>\n",
              "      <td>positive</td>\n",
              "    </tr>\n",
              "    <tr>\n",
              "      <th>1</th>\n",
              "      <td>$ESI on lows, down $1.50 to $2.50 BK a real po...</td>\n",
              "      <td>negative</td>\n",
              "    </tr>\n",
              "    <tr>\n",
              "      <th>2</th>\n",
              "      <td>For the last quarter of 2010 , Componenta 's n...</td>\n",
              "      <td>positive</td>\n",
              "    </tr>\n",
              "    <tr>\n",
              "      <th>3</th>\n",
              "      <td>According to the Finnish-Russian Chamber of Co...</td>\n",
              "      <td>neutral</td>\n",
              "    </tr>\n",
              "    <tr>\n",
              "      <th>4</th>\n",
              "      <td>The Swedish buyout firm has sold its remaining...</td>\n",
              "      <td>neutral</td>\n",
              "    </tr>\n",
              "  </tbody>\n",
              "</table>\n",
              "</div>\n",
              "    <div class=\"colab-df-buttons\">\n",
              "\n",
              "  <div class=\"colab-df-container\">\n",
              "    <button class=\"colab-df-convert\" onclick=\"convertToInteractive('df-7b2fecad-b512-4db1-be2e-7b6f8bbdbbaf')\"\n",
              "            title=\"Convert this dataframe to an interactive table.\"\n",
              "            style=\"display:none;\">\n",
              "\n",
              "  <svg xmlns=\"http://www.w3.org/2000/svg\" height=\"24px\" viewBox=\"0 -960 960 960\">\n",
              "    <path d=\"M120-120v-720h720v720H120Zm60-500h600v-160H180v160Zm220 220h160v-160H400v160Zm0 220h160v-160H400v160ZM180-400h160v-160H180v160Zm440 0h160v-160H620v160ZM180-180h160v-160H180v160Zm440 0h160v-160H620v160Z\"/>\n",
              "  </svg>\n",
              "    </button>\n",
              "\n",
              "  <style>\n",
              "    .colab-df-container {\n",
              "      display:flex;\n",
              "      gap: 12px;\n",
              "    }\n",
              "\n",
              "    .colab-df-convert {\n",
              "      background-color: #E8F0FE;\n",
              "      border: none;\n",
              "      border-radius: 50%;\n",
              "      cursor: pointer;\n",
              "      display: none;\n",
              "      fill: #1967D2;\n",
              "      height: 32px;\n",
              "      padding: 0 0 0 0;\n",
              "      width: 32px;\n",
              "    }\n",
              "\n",
              "    .colab-df-convert:hover {\n",
              "      background-color: #E2EBFA;\n",
              "      box-shadow: 0px 1px 2px rgba(60, 64, 67, 0.3), 0px 1px 3px 1px rgba(60, 64, 67, 0.15);\n",
              "      fill: #174EA6;\n",
              "    }\n",
              "\n",
              "    .colab-df-buttons div {\n",
              "      margin-bottom: 4px;\n",
              "    }\n",
              "\n",
              "    [theme=dark] .colab-df-convert {\n",
              "      background-color: #3B4455;\n",
              "      fill: #D2E3FC;\n",
              "    }\n",
              "\n",
              "    [theme=dark] .colab-df-convert:hover {\n",
              "      background-color: #434B5C;\n",
              "      box-shadow: 0px 1px 3px 1px rgba(0, 0, 0, 0.15);\n",
              "      filter: drop-shadow(0px 1px 2px rgba(0, 0, 0, 0.3));\n",
              "      fill: #FFFFFF;\n",
              "    }\n",
              "  </style>\n",
              "\n",
              "    <script>\n",
              "      const buttonEl =\n",
              "        document.querySelector('#df-7b2fecad-b512-4db1-be2e-7b6f8bbdbbaf button.colab-df-convert');\n",
              "      buttonEl.style.display =\n",
              "        google.colab.kernel.accessAllowed ? 'block' : 'none';\n",
              "\n",
              "      async function convertToInteractive(key) {\n",
              "        const element = document.querySelector('#df-7b2fecad-b512-4db1-be2e-7b6f8bbdbbaf');\n",
              "        const dataTable =\n",
              "          await google.colab.kernel.invokeFunction('convertToInteractive',\n",
              "                                                    [key], {});\n",
              "        if (!dataTable) return;\n",
              "\n",
              "        const docLinkHtml = 'Like what you see? Visit the ' +\n",
              "          '<a target=\"_blank\" href=https://colab.research.google.com/notebooks/data_table.ipynb>data table notebook</a>'\n",
              "          + ' to learn more about interactive tables.';\n",
              "        element.innerHTML = '';\n",
              "        dataTable['output_type'] = 'display_data';\n",
              "        await google.colab.output.renderOutput(dataTable, element);\n",
              "        const docLink = document.createElement('div');\n",
              "        docLink.innerHTML = docLinkHtml;\n",
              "        element.appendChild(docLink);\n",
              "      }\n",
              "    </script>\n",
              "  </div>\n",
              "\n",
              "\n",
              "    <div id=\"df-c1883dec-c102-4cbf-80fc-03f1a7fe495b\">\n",
              "      <button class=\"colab-df-quickchart\" onclick=\"quickchart('df-c1883dec-c102-4cbf-80fc-03f1a7fe495b')\"\n",
              "                title=\"Suggest charts\"\n",
              "                style=\"display:none;\">\n",
              "\n",
              "<svg xmlns=\"http://www.w3.org/2000/svg\" height=\"24px\"viewBox=\"0 0 24 24\"\n",
              "     width=\"24px\">\n",
              "    <g>\n",
              "        <path d=\"M19 3H5c-1.1 0-2 .9-2 2v14c0 1.1.9 2 2 2h14c1.1 0 2-.9 2-2V5c0-1.1-.9-2-2-2zM9 17H7v-7h2v7zm4 0h-2V7h2v10zm4 0h-2v-4h2v4z\"/>\n",
              "    </g>\n",
              "</svg>\n",
              "      </button>\n",
              "\n",
              "<style>\n",
              "  .colab-df-quickchart {\n",
              "      --bg-color: #E8F0FE;\n",
              "      --fill-color: #1967D2;\n",
              "      --hover-bg-color: #E2EBFA;\n",
              "      --hover-fill-color: #174EA6;\n",
              "      --disabled-fill-color: #AAA;\n",
              "      --disabled-bg-color: #DDD;\n",
              "  }\n",
              "\n",
              "  [theme=dark] .colab-df-quickchart {\n",
              "      --bg-color: #3B4455;\n",
              "      --fill-color: #D2E3FC;\n",
              "      --hover-bg-color: #434B5C;\n",
              "      --hover-fill-color: #FFFFFF;\n",
              "      --disabled-bg-color: #3B4455;\n",
              "      --disabled-fill-color: #666;\n",
              "  }\n",
              "\n",
              "  .colab-df-quickchart {\n",
              "    background-color: var(--bg-color);\n",
              "    border: none;\n",
              "    border-radius: 50%;\n",
              "    cursor: pointer;\n",
              "    display: none;\n",
              "    fill: var(--fill-color);\n",
              "    height: 32px;\n",
              "    padding: 0;\n",
              "    width: 32px;\n",
              "  }\n",
              "\n",
              "  .colab-df-quickchart:hover {\n",
              "    background-color: var(--hover-bg-color);\n",
              "    box-shadow: 0 1px 2px rgba(60, 64, 67, 0.3), 0 1px 3px 1px rgba(60, 64, 67, 0.15);\n",
              "    fill: var(--button-hover-fill-color);\n",
              "  }\n",
              "\n",
              "  .colab-df-quickchart-complete:disabled,\n",
              "  .colab-df-quickchart-complete:disabled:hover {\n",
              "    background-color: var(--disabled-bg-color);\n",
              "    fill: var(--disabled-fill-color);\n",
              "    box-shadow: none;\n",
              "  }\n",
              "\n",
              "  .colab-df-spinner {\n",
              "    border: 2px solid var(--fill-color);\n",
              "    border-color: transparent;\n",
              "    border-bottom-color: var(--fill-color);\n",
              "    animation:\n",
              "      spin 1s steps(1) infinite;\n",
              "  }\n",
              "\n",
              "  @keyframes spin {\n",
              "    0% {\n",
              "      border-color: transparent;\n",
              "      border-bottom-color: var(--fill-color);\n",
              "      border-left-color: var(--fill-color);\n",
              "    }\n",
              "    20% {\n",
              "      border-color: transparent;\n",
              "      border-left-color: var(--fill-color);\n",
              "      border-top-color: var(--fill-color);\n",
              "    }\n",
              "    30% {\n",
              "      border-color: transparent;\n",
              "      border-left-color: var(--fill-color);\n",
              "      border-top-color: var(--fill-color);\n",
              "      border-right-color: var(--fill-color);\n",
              "    }\n",
              "    40% {\n",
              "      border-color: transparent;\n",
              "      border-right-color: var(--fill-color);\n",
              "      border-top-color: var(--fill-color);\n",
              "    }\n",
              "    60% {\n",
              "      border-color: transparent;\n",
              "      border-right-color: var(--fill-color);\n",
              "    }\n",
              "    80% {\n",
              "      border-color: transparent;\n",
              "      border-right-color: var(--fill-color);\n",
              "      border-bottom-color: var(--fill-color);\n",
              "    }\n",
              "    90% {\n",
              "      border-color: transparent;\n",
              "      border-bottom-color: var(--fill-color);\n",
              "    }\n",
              "  }\n",
              "</style>\n",
              "\n",
              "      <script>\n",
              "        async function quickchart(key) {\n",
              "          const quickchartButtonEl =\n",
              "            document.querySelector('#' + key + ' button');\n",
              "          quickchartButtonEl.disabled = true;  // To prevent multiple clicks.\n",
              "          quickchartButtonEl.classList.add('colab-df-spinner');\n",
              "          try {\n",
              "            const charts = await google.colab.kernel.invokeFunction(\n",
              "                'suggestCharts', [key], {});\n",
              "          } catch (error) {\n",
              "            console.error('Error during call to suggestCharts:', error);\n",
              "          }\n",
              "          quickchartButtonEl.classList.remove('colab-df-spinner');\n",
              "          quickchartButtonEl.classList.add('colab-df-quickchart-complete');\n",
              "        }\n",
              "        (() => {\n",
              "          let quickchartButtonEl =\n",
              "            document.querySelector('#df-c1883dec-c102-4cbf-80fc-03f1a7fe495b button');\n",
              "          quickchartButtonEl.style.display =\n",
              "            google.colab.kernel.accessAllowed ? 'block' : 'none';\n",
              "        })();\n",
              "      </script>\n",
              "    </div>\n",
              "\n",
              "    </div>\n",
              "  </div>\n"
            ],
            "application/vnd.google.colaboratory.intrinsic+json": {
              "type": "dataframe",
              "variable_name": "df",
              "summary": "{\n  \"name\": \"df\",\n  \"rows\": 5842,\n  \"fields\": [\n    {\n      \"column\": \"Sentence\",\n      \"properties\": {\n        \"dtype\": \"string\",\n        \"num_unique_values\": 5322,\n        \"samples\": [\n          \"It is now the leading private road ambulance service company in Finland .\",\n          \"Finnish silicon wafers manufacturer Okmetic Oyj said it swung to a net profit of 4.9 mln euro $ 6.3 mln in the first nine months of 2006 from a net loss of 1.8 mln euro $ 2.3 mln a year earlier .\",\n          \"$GILD  is expanding its research facilities...keeping up with the pace of innovation  https://t.co/uOE7FJ4LOP\"\n        ],\n        \"semantic_type\": \"\",\n        \"description\": \"\"\n      }\n    },\n    {\n      \"column\": \"Sentiment\",\n      \"properties\": {\n        \"dtype\": \"category\",\n        \"num_unique_values\": 3,\n        \"samples\": [\n          \"positive\",\n          \"negative\",\n          \"neutral\"\n        ],\n        \"semantic_type\": \"\",\n        \"description\": \"\"\n      }\n    }\n  ]\n}"
            }
          },
          "metadata": {},
          "execution_count": 5
        }
      ]
    },
    {
      "cell_type": "code",
      "source": [
        "df.isnull().sum()"
      ],
      "metadata": {
        "colab": {
          "base_uri": "https://localhost:8080/",
          "height": 147
        },
        "id": "IQ0lHuPd3PKX",
        "outputId": "240d845c-31af-4f2d-ac03-e5fdc914c9fa"
      },
      "execution_count": null,
      "outputs": [
        {
          "output_type": "execute_result",
          "data": {
            "text/plain": [
              "Sentence     0\n",
              "Sentiment    0\n",
              "dtype: int64"
            ],
            "text/html": [
              "<div>\n",
              "<style scoped>\n",
              "    .dataframe tbody tr th:only-of-type {\n",
              "        vertical-align: middle;\n",
              "    }\n",
              "\n",
              "    .dataframe tbody tr th {\n",
              "        vertical-align: top;\n",
              "    }\n",
              "\n",
              "    .dataframe thead th {\n",
              "        text-align: right;\n",
              "    }\n",
              "</style>\n",
              "<table border=\"1\" class=\"dataframe\">\n",
              "  <thead>\n",
              "    <tr style=\"text-align: right;\">\n",
              "      <th></th>\n",
              "      <th>0</th>\n",
              "    </tr>\n",
              "  </thead>\n",
              "  <tbody>\n",
              "    <tr>\n",
              "      <th>Sentence</th>\n",
              "      <td>0</td>\n",
              "    </tr>\n",
              "    <tr>\n",
              "      <th>Sentiment</th>\n",
              "      <td>0</td>\n",
              "    </tr>\n",
              "  </tbody>\n",
              "</table>\n",
              "</div><br><label><b>dtype:</b> int64</label>"
            ]
          },
          "metadata": {},
          "execution_count": 6
        }
      ]
    },
    {
      "cell_type": "code",
      "source": [
        "df.duplicated().sum()"
      ],
      "metadata": {
        "colab": {
          "base_uri": "https://localhost:8080/"
        },
        "id": "En7iu_mN3ccD",
        "outputId": "09c1a97a-c7a8-4a7a-fffa-56a9bfafbffe"
      },
      "execution_count": null,
      "outputs": [
        {
          "output_type": "execute_result",
          "data": {
            "text/plain": [
              "np.int64(6)"
            ]
          },
          "metadata": {},
          "execution_count": 7
        }
      ]
    },
    {
      "cell_type": "code",
      "source": [
        "df=df.drop_duplicates()"
      ],
      "metadata": {
        "id": "nx5IDEUs3jYP"
      },
      "execution_count": null,
      "outputs": []
    },
    {
      "cell_type": "code",
      "source": [
        "plt.figure(figsize=(5,5))\n",
        "sns.countplot(x=\"Sentiment\",data=df,palette=\"Set2\")\n",
        "plt.title(\"count plot of the sentiment\")\n",
        "\n",
        "# Adding data labels on top of the bars\n",
        "for bar in plt.gca().patches:\n",
        "    height = bar.get_height()\n",
        "    x = bar.get_x() + bar.get_width() / 2\n",
        "    plt.text(x, height, str(int(height)), ha='center', va='bottom')"
      ],
      "metadata": {
        "colab": {
          "base_uri": "https://localhost:8080/",
          "height": 574
        },
        "id": "2FVQ5Iu43vTE",
        "outputId": "394fb4d2-1d58-4ba5-e7b2-1637ebfe0254"
      },
      "execution_count": null,
      "outputs": [
        {
          "output_type": "stream",
          "name": "stderr",
          "text": [
            "<ipython-input-9-3bce40c58669>:2: FutureWarning: \n",
            "\n",
            "Passing `palette` without assigning `hue` is deprecated and will be removed in v0.14.0. Assign the `x` variable to `hue` and set `legend=False` for the same effect.\n",
            "\n",
            "  sns.countplot(x=\"Sentiment\",data=df,palette=\"Set2\")\n"
          ]
        },
        {
          "output_type": "display_data",
          "data": {
            "text/plain": [
              "<Figure size 500x500 with 1 Axes>"
            ],
            "image/png": "[encoded data removed]"
          },
          "metadata": {}
        }
      ]
    },
    {
      "cell_type": "code",
      "source": [
        "labels=[\"neutral\",\"positive\",\"negative\"]\n",
        "plt.figure(figsize=(5,5))\n",
        "plt.pie(x=df[\"Sentiment\"].value_counts(),autopct=\"%0.2f%%\")\n",
        "plt.title(\"pie plot for sentiment\")\n",
        "plt.legend(labels)"
      ],
      "metadata": {
        "colab": {
          "base_uri": "https://localhost:8080/",
          "height": 461
        },
        "id": "2NpNvo2z360O",
        "outputId": "94f8c588-15bb-4e17-b158-a42c85c06449"
      },
      "execution_count": null,
      "outputs": [
        {
          "output_type": "execute_result",
          "data": {
            "text/plain": [
              "<matplotlib.legend.Legend at 0x7d6740b65090>"
            ]
          },
          "metadata": {},
          "execution_count": 10
        },
        {
          "output_type": "display_data",
          "data": {
            "text/plain": [
              "<Figure size 500x500 with 1 Axes>"
            ],
            "image/png": "[encoded data removed]"
          },
          "metadata": {}
        }
      ]
    },
    {
      "cell_type": "code",
      "source": [
        "#applying label encoding to sentiment column\n",
        "le=LabelEncoder()\n",
        "df[\"Sentiment\"]=le.fit_transform(df[\"Sentiment\"])\n",
        "\n",
        "df[\"Sentiment\"].unique()"
      ],
      "metadata": {
        "colab": {
          "base_uri": "https://localhost:8080/"
        },
        "id": "MisSH3we3_2r",
        "outputId": "1f6c494d-c83d-4fb3-a21f-7ee1083a9411"
      },
      "execution_count": null,
      "outputs": [
        {
          "output_type": "execute_result",
          "data": {
            "text/plain": [
              "array([2, 0, 1])"
            ]
          },
          "metadata": {},
          "execution_count": 11
        }
      ]
    },
    {
      "cell_type": "code",
      "source": [
        "import nltk\n",
        "nltk.download('stopwords')\n",
        "nltk.download('punkt')\n",
        "nltk.download('wordnet')\n",
        "nltk.download('omw-1.4')\n",
        "nltk.download('punkt_tab')"
      ],
      "metadata": {
        "colab": {
          "base_uri": "https://localhost:8080/"
        },
        "id": "wg_Lr-wA4lwa",
        "outputId": "872eaa2e-0595-4a98-94c6-56509b0e3874"
      },
      "execution_count": null,
      "outputs": [
        {
          "output_type": "stream",
          "name": "stderr",
          "text": [
            "[nltk_data] Downloading package stopwords to /root/nltk_data...\n",
            "[nltk_data]   Package stopwords is already up-to-date!\n",
            "[nltk_data] Downloading package punkt to /root/nltk_data...\n",
            "[nltk_data]   Package punkt is already up-to-date!\n",
            "[nltk_data] Downloading package wordnet to /root/nltk_data...\n",
            "[nltk_data]   Package wordnet is already up-to-date!\n",
            "[nltk_data] Downloading package omw-1.4 to /root/nltk_data...\n",
            "[nltk_data]   Package omw-1.4 is already up-to-date!\n",
            "[nltk_data] Downloading package punkt_tab to /root/nltk_data...\n",
            "[nltk_data]   Package punkt_tab is already up-to-date!\n"
          ]
        },
        {
          "output_type": "execute_result",
          "data": {
            "text/plain": [
              "True"
            ]
          },
          "metadata": {},
          "execution_count": 12
        }
      ]
    },
    {
      "cell_type": "code",
      "source": [
        "#cleaning\n",
        "\n",
        "stop=set(stopwords.words(\"english\"))\n",
        "lemmatizer=WordNetLemmatizer()\n",
        "\n",
        "\n",
        "def clean_text(text):\n",
        "    text = re.sub(r\"won\\'t\", \"will not\", text)\n",
        "    text = re.sub(r\"can\\'t\", \"can not\", text)\n",
        "    text = re.sub(r\"n\\'t\", \" not\", text)\n",
        "    text = re.sub(r\"\\'re\", \" are\", text)\n",
        "    text = re.sub(r\"\\'s\", \" is\", text)\n",
        "    text = re.sub(r\"\\'d\", \" would\",text)\n",
        "    text = re.sub(r\"\\'ll\", \" will\", text)\n",
        "    text = re.sub(r\"\\'t\", \" not\", text)\n",
        "    text = re.sub(r\"\\'ve\", \" have\", text)\n",
        "    text = re.sub(r\"\\'m\", \" am\", text)\n",
        "    text = re.sub('[^a-zA-Z]',' ',text)\n",
        "    text = re.sub(r\"[^\\w\\s]\",\" \",text.lower())\n",
        "    text = re.sub(r\"\\s+\",\" \",text)\n",
        "    tokens=word_tokenize(text)\n",
        "    output=[lemmatizer.lemmatize(words) for words in tokens if words.isalpha() and words not in stop]\n",
        "    return \" \".join(output)\n",
        "\n"
      ],
      "metadata": {
        "id": "GxXR9pAC4Q6M"
      },
      "execution_count": null,
      "outputs": []
    },
    {
      "cell_type": "code",
      "source": [
        "df[\"clean text\"]=df[\"Sentence\"].apply(clean_text)"
      ],
      "metadata": {
        "id": "__wBbxGZ4Uyq"
      },
      "execution_count": null,
      "outputs": []
    },
    {
      "cell_type": "code",
      "source": [
        "df.head()"
      ],
      "metadata": {
        "colab": {
          "base_uri": "https://localhost:8080/",
          "height": 206
        },
        "id": "9ejo04Sw5r-V",
        "outputId": "388dbae0-8c52-4eb0-eb7b-732a3f73e664"
      },
      "execution_count": null,
      "outputs": [
        {
          "output_type": "execute_result",
          "data": {
            "text/plain": [
              "                                            Sentence  Sentiment  \\\n",
              "0  The GeoSolutions technology will leverage Bene...          2   \n",
              "1  $ESI on lows, down $1.50 to $2.50 BK a real po...          0   \n",
              "2  For the last quarter of 2010 , Componenta 's n...          2   \n",
              "3  According to the Finnish-Russian Chamber of Co...          1   \n",
              "4  The Swedish buyout firm has sold its remaining...          1   \n",
              "\n",
              "                                          clean text  \n",
              "0  geosolutions technology leverage benefon gps s...  \n",
              "1                        esi low bk real possibility  \n",
              "2  last quarter componenta net sale doubled eur e...  \n",
              "3  according finnish russian chamber commerce maj...  \n",
              "4  swedish buyout firm sold remaining percent sta...  "
            ],
            "text/html": [
              "\n",
              "  <div id=\"df-e67f6277-a525-4834-8339-d68b4db9cec9\" class=\"colab-df-container\">\n",
              "    <div>\n",
              "<style scoped>\n",
              "    .dataframe tbody tr th:only-of-type {\n",
              "        vertical-align: middle;\n",
              "    }\n",
              "\n",
              "    .dataframe tbody tr th {\n",
              "        vertical-align: top;\n",
              "    }\n",
              "\n",
              "    .dataframe thead th {\n",
              "        text-align: right;\n",
              "    }\n",
              "</style>\n",
              "<table border=\"1\" class=\"dataframe\">\n",
              "  <thead>\n",
              "    <tr style=\"text-align: right;\">\n",
              "      <th></th>\n",
              "      <th>Sentence</th>\n",
              "      <th>Sentiment</th>\n",
              "      <th>clean text</th>\n",
              "    </tr>\n",
              "  </thead>\n",
              "  <tbody>\n",
              "    <tr>\n",
              "      <th>0</th>\n",
              "      <td>The GeoSolutions technology will leverage Bene...</td>\n",
              "      <td>2</td>\n",
              "      <td>geosolutions technology leverage benefon gps s...</td>\n",
              "    </tr>\n",
              "    <tr>\n",
              "      <th>1</th>\n",
              "      <td>$ESI on lows, down $1.50 to $2.50 BK a real po...</td>\n",
              "      <td>0</td>\n",
              "      <td>esi low bk real possibility</td>\n",
              "    </tr>\n",
              "    <tr>\n",
              "      <th>2</th>\n",
              "      <td>For the last quarter of 2010 , Componenta 's n...</td>\n",
              "      <td>2</td>\n",
              "      <td>last quarter componenta net sale doubled eur e...</td>\n",
              "    </tr>\n",
              "    <tr>\n",
              "      <th>3</th>\n",
              "      <td>According to the Finnish-Russian Chamber of Co...</td>\n",
              "      <td>1</td>\n",
              "      <td>according finnish russian chamber commerce maj...</td>\n",
              "    </tr>\n",
              "    <tr>\n",
              "      <th>4</th>\n",
              "      <td>The Swedish buyout firm has sold its remaining...</td>\n",
              "      <td>1</td>\n",
              "      <td>swedish buyout firm sold remaining percent sta...</td>\n",
              "    </tr>\n",
              "  </tbody>\n",
              "</table>\n",
              "</div>\n",
              "    <div class=\"colab-df-buttons\">\n",
              "\n",
              "  <div class=\"colab-df-container\">\n",
              "    <button class=\"colab-df-convert\" onclick=\"convertToInteractive('df-e67f6277-a525-4834-8339-d68b4db9cec9')\"\n",
              "            title=\"Convert this dataframe to an interactive table.\"\n",
              "            style=\"display:none;\">\n",
              "\n",
              "  <svg xmlns=\"http://www.w3.org/2000/svg\" height=\"24px\" viewBox=\"0 -960 960 960\">\n",
              "    <path d=\"M120-120v-720h720v720H120Zm60-500h600v-160H180v160Zm220 220h160v-160H400v160Zm0 220h160v-160H400v160ZM180-400h160v-160H180v160Zm440 0h160v-160H620v160ZM180-180h160v-160H180v160Zm440 0h160v-160H620v160Z\"/>\n",
              "  </svg>\n",
              "    </button>\n",
              "\n",
              "  <style>\n",
              "    .colab-df-container {\n",
              "      display:flex;\n",
              "      gap: 12px;\n",
              "    }\n",
              "\n",
              "    .colab-df-convert {\n",
              "      background-color: #E8F0FE;\n",
              "      border: none;\n",
              "      border-radius: 50%;\n",
              "      cursor: pointer;\n",
              "      display: none;\n",
              "      fill: #1967D2;\n",
              "      height: 32px;\n",
              "      padding: 0 0 0 0;\n",
              "      width: 32px;\n",
              "    }\n",
              "\n",
              "    .colab-df-convert:hover {\n",
              "      background-color: #E2EBFA;\n",
              "      box-shadow: 0px 1px 2px rgba(60, 64, 67, 0.3), 0px 1px 3px 1px rgba(60, 64, 67, 0.15);\n",
              "      fill: #174EA6;\n",
              "    }\n",
              "\n",
              "    .colab-df-buttons div {\n",
              "      margin-bottom: 4px;\n",
              "    }\n",
              "\n",
              "    [theme=dark] .colab-df-convert {\n",
              "      background-color: #3B4455;\n",
              "      fill: #D2E3FC;\n",
              "    }\n",
              "\n",
              "    [theme=dark] .colab-df-convert:hover {\n",
              "      background-color: #434B5C;\n",
              "      box-shadow: 0px 1px 3px 1px rgba(0, 0, 0, 0.15);\n",
              "      filter: drop-shadow(0px 1px 2px rgba(0, 0, 0, 0.3));\n",
              "      fill: #FFFFFF;\n",
              "    }\n",
              "  </style>\n",
              "\n",
              "    <script>\n",
              "      const buttonEl =\n",
              "        document.querySelector('#df-e67f6277-a525-4834-8339-d68b4db9cec9 button.colab-df-convert');\n",
              "      buttonEl.style.display =\n",
              "        google.colab.kernel.accessAllowed ? 'block' : 'none';\n",
              "\n",
              "      async function convertToInteractive(key) {\n",
              "        const element = document.querySelector('#df-e67f6277-a525-4834-8339-d68b4db9cec9');\n",
              "        const dataTable =\n",
              "          await google.colab.kernel.invokeFunction('convertToInteractive',\n",
              "                                                    [key], {});\n",
              "        if (!dataTable) return;\n",
              "\n",
              "        const docLinkHtml = 'Like what you see? Visit the ' +\n",
              "          '<a target=\"_blank\" href=https://colab.research.google.com/notebooks/data_table.ipynb>data table notebook</a>'\n",
              "          + ' to learn more about interactive tables.';\n",
              "        element.innerHTML = '';\n",
              "        dataTable['output_type'] = 'display_data';\n",
              "        await google.colab.output.renderOutput(dataTable, element);\n",
              "        const docLink = document.createElement('div');\n",
              "        docLink.innerHTML = docLinkHtml;\n",
              "        element.appendChild(docLink);\n",
              "      }\n",
              "    </script>\n",
              "  </div>\n",
              "\n",
              "\n",
              "    <div id=\"df-ba102c59-4213-4707-b079-10029e6fa23b\">\n",
              "      <button class=\"colab-df-quickchart\" onclick=\"quickchart('df-ba102c59-4213-4707-b079-10029e6fa23b')\"\n",
              "                title=\"Suggest charts\"\n",
              "                style=\"display:none;\">\n",
              "\n",
              "<svg xmlns=\"http://www.w3.org/2000/svg\" height=\"24px\"viewBox=\"0 0 24 24\"\n",
              "     width=\"24px\">\n",
              "    <g>\n",
              "        <path d=\"M19 3H5c-1.1 0-2 .9-2 2v14c0 1.1.9 2 2 2h14c1.1 0 2-.9 2-2V5c0-1.1-.9-2-2-2zM9 17H7v-7h2v7zm4 0h-2V7h2v10zm4 0h-2v-4h2v4z\"/>\n",
              "    </g>\n",
              "</svg>\n",
              "      </button>\n",
              "\n",
              "<style>\n",
              "  .colab-df-quickchart {\n",
              "      --bg-color: #E8F0FE;\n",
              "      --fill-color: #1967D2;\n",
              "      --hover-bg-color: #E2EBFA;\n",
              "      --hover-fill-color: #174EA6;\n",
              "      --disabled-fill-color: #AAA;\n",
              "      --disabled-bg-color: #DDD;\n",
              "  }\n",
              "\n",
              "  [theme=dark] .colab-df-quickchart {\n",
              "      --bg-color: #3B4455;\n",
              "      --fill-color: #D2E3FC;\n",
              "      --hover-bg-color: #434B5C;\n",
              "      --hover-fill-color: #FFFFFF;\n",
              "      --disabled-bg-color: #3B4455;\n",
              "      --disabled-fill-color: #666;\n",
              "  }\n",
              "\n",
              "  .colab-df-quickchart {\n",
              "    background-color: var(--bg-color);\n",
              "    border: none;\n",
              "    border-radius: 50%;\n",
              "    cursor: pointer;\n",
              "    display: none;\n",
              "    fill: var(--fill-color);\n",
              "    height: 32px;\n",
              "    padding: 0;\n",
              "    width: 32px;\n",
              "  }\n",
              "\n",
              "  .colab-df-quickchart:hover {\n",
              "    background-color: var(--hover-bg-color);\n",
              "    box-shadow: 0 1px 2px rgba(60, 64, 67, 0.3), 0 1px 3px 1px rgba(60, 64, 67, 0.15);\n",
              "    fill: var(--button-hover-fill-color);\n",
              "  }\n",
              "\n",
              "  .colab-df-quickchart-complete:disabled,\n",
              "  .colab-df-quickchart-complete:disabled:hover {\n",
              "    background-color: var(--disabled-bg-color);\n",
              "    fill: var(--disabled-fill-color);\n",
              "    box-shadow: none;\n",
              "  }\n",
              "\n",
              "  .colab-df-spinner {\n",
              "    border: 2px solid var(--fill-color);\n",
              "    border-color: transparent;\n",
              "    border-bottom-color: var(--fill-color);\n",
              "    animation:\n",
              "      spin 1s steps(1) infinite;\n",
              "  }\n",
              "\n",
              "  @keyframes spin {\n",
              "    0% {\n",
              "      border-color: transparent;\n",
              "      border-bottom-color: var(--fill-color);\n",
              "      border-left-color: var(--fill-color);\n",
              "    }\n",
              "    20% {\n",
              "      border-color: transparent;\n",
              "      border-left-color: var(--fill-color);\n",
              "      border-top-color: var(--fill-color);\n",
              "    }\n",
              "    30% {\n",
              "      border-color: transparent;\n",
              "      border-left-color: var(--fill-color);\n",
              "      border-top-color: var(--fill-color);\n",
              "      border-right-color: var(--fill-color);\n",
              "    }\n",
              "    40% {\n",
              "      border-color: transparent;\n",
              "      border-right-color: var(--fill-color);\n",
              "      border-top-color: var(--fill-color);\n",
              "    }\n",
              "    60% {\n",
              "      border-color: transparent;\n",
              "      border-right-color: var(--fill-color);\n",
              "    }\n",
              "    80% {\n",
              "      border-color: transparent;\n",
              "      border-right-color: var(--fill-color);\n",
              "      border-bottom-color: var(--fill-color);\n",
              "    }\n",
              "    90% {\n",
              "      border-color: transparent;\n",
              "      border-bottom-color: var(--fill-color);\n",
              "    }\n",
              "  }\n",
              "</style>\n",
              "\n",
              "      <script>\n",
              "        async function quickchart(key) {\n",
              "          const quickchartButtonEl =\n",
              "            document.querySelector('#' + key + ' button');\n",
              "          quickchartButtonEl.disabled = true;  // To prevent multiple clicks.\n",
              "          quickchartButtonEl.classList.add('colab-df-spinner');\n",
              "          try {\n",
              "            const charts = await google.colab.kernel.invokeFunction(\n",
              "                'suggestCharts', [key], {});\n",
              "          } catch (error) {\n",
              "            console.error('Error during call to suggestCharts:', error);\n",
              "          }\n",
              "          quickchartButtonEl.classList.remove('colab-df-spinner');\n",
              "          quickchartButtonEl.classList.add('colab-df-quickchart-complete');\n",
              "        }\n",
              "        (() => {\n",
              "          let quickchartButtonEl =\n",
              "            document.querySelector('#df-ba102c59-4213-4707-b079-10029e6fa23b button');\n",
              "          quickchartButtonEl.style.display =\n",
              "            google.colab.kernel.accessAllowed ? 'block' : 'none';\n",
              "        })();\n",
              "      </script>\n",
              "    </div>\n",
              "\n",
              "    </div>\n",
              "  </div>\n"
            ],
            "application/vnd.google.colaboratory.intrinsic+json": {
              "type": "dataframe",
              "variable_name": "df",
              "summary": "{\n  \"name\": \"df\",\n  \"rows\": 5836,\n  \"fields\": [\n    {\n      \"column\": \"Sentence\",\n      \"properties\": {\n        \"dtype\": \"string\",\n        \"num_unique_values\": 5322,\n        \"samples\": [\n          \"It is now the leading private road ambulance service company in Finland .\",\n          \"Finnish silicon wafers manufacturer Okmetic Oyj said it swung to a net profit of 4.9 mln euro $ 6.3 mln in the first nine months of 2006 from a net loss of 1.8 mln euro $ 2.3 mln a year earlier .\",\n          \"$GILD  is expanding its research facilities...keeping up with the pace of innovation  https://t.co/uOE7FJ4LOP\"\n        ],\n        \"semantic_type\": \"\",\n        \"description\": \"\"\n      }\n    },\n    {\n      \"column\": \"Sentiment\",\n      \"properties\": {\n        \"dtype\": \"number\",\n        \"std\": 0,\n        \"min\": 0,\n        \"max\": 2,\n        \"num_unique_values\": 3,\n        \"samples\": [\n          2,\n          0,\n          1\n        ],\n        \"semantic_type\": \"\",\n        \"description\": \"\"\n      }\n    },\n    {\n      \"column\": \"clean text\",\n      \"properties\": {\n        \"dtype\": \"string\",\n        \"num_unique_values\": 5248,\n        \"samples\": [\n          \"company also compensated acting reserve batch plant\",\n          \"finnish kemira group ceo lasse kurkilahti say group structural reorganisation continue least year\",\n          \"according schmardin nordea likely try win customer pension fund provider\"\n        ],\n        \"semantic_type\": \"\",\n        \"description\": \"\"\n      }\n    }\n  ]\n}"
            }
          },
          "metadata": {},
          "execution_count": 15
        }
      ]
    },
    {
      "cell_type": "code",
      "source": [
        "#Creating the Bag of Words model (BoW)\n",
        "#countvectorizer\n",
        "\n",
        "vectorizer=CountVectorizer()\n",
        "x=vectorizer.fit_transform(df[\"clean text\"])\n",
        "y=df[\"Sentiment\"]"
      ],
      "metadata": {
        "id": "74rxqpUB6ZUW"
      },
      "execution_count": null,
      "outputs": []
    },
    {
      "cell_type": "code",
      "source": [
        "#balnce the sentiment column\n",
        "\n",
        "smote=SMOTE()\n",
        "\n",
        "x,y=smote.fit_resample(x,y)\n",
        "\n",
        "print(y.value_counts())"
      ],
      "metadata": {
        "colab": {
          "base_uri": "https://localhost:8080/"
        },
        "id": "3m_u6qj2E_2E",
        "outputId": "3eb71df5-84c6-48e4-cee7-09cf9b2010a3"
      },
      "execution_count": null,
      "outputs": [
        {
          "output_type": "stream",
          "name": "stdout",
          "text": [
            "Sentiment\n",
            "2    3124\n",
            "0    3124\n",
            "1    3124\n",
            "Name: count, dtype: int64\n"
          ]
        }
      ]
    },
    {
      "cell_type": "code",
      "source": [
        "#train_test split\n",
        "x_train,x_test,y_train,y_test=train_test_split(x,y,test_size=0.2,random_state=42)\n",
        "\n",
        "models={\"LogisticRegression\":LogisticRegression(),\n",
        "        \"Naive Bayes\":MultinomialNB(),\n",
        "        \"SVC\":SVC(),\n",
        "        \"KNN\":KNeighborsClassifier(),\n",
        "        \"xgboost\":XGBClassifier()}"
      ],
      "metadata": {
        "id": "x7c9WDeMFDqO"
      },
      "execution_count": null,
      "outputs": []
    },
    {
      "cell_type": "code",
      "source": [
        "for name, model in models.items():\n",
        "    if name==\"Naive Bayes\":\n",
        "        model.fit(x_train.toarray(),y_train)\n",
        "        y_pred_train=model.predict(x_train.toarray())\n",
        "        y_pred=model.predict(x_test.toarray())\n",
        "\n",
        "    else:\n",
        "        model.fit(x_train,y_train)\n",
        "        y_pred_train=model.predict(x_train)\n",
        "        y_pred=model.predict(x_test)\n",
        "\n",
        "    print(f\"{name}\")\n",
        "    print(\"train accuracy: \",accuracy_score(y_train,y_pred_train))\n",
        "    print(\"test accuracy: \",accuracy_score(y_test,y_pred))\n",
        "    print(classification_report(y_test,y_pred))\n",
        "    print(confusion_matrix(y_test,y_pred))\n",
        "    print(\"*\"*50)"
      ],
      "metadata": {
        "colab": {
          "base_uri": "https://localhost:8080/"
        },
        "id": "OF2j8wgkFHrm",
        "outputId": "9aa48a08-8352-4721-8d42-af3d2203916a"
      },
      "execution_count": null,
      "outputs": [
        {
          "output_type": "stream",
          "name": "stdout",
          "text": [
            "LogisticRegression\n",
            "train accuracy:  0.851140456182473\n",
            "test accuracy:  0.6810666666666667\n",
            "              precision    recall  f1-score   support\n",
            "\n",
            "           0       0.60      0.83      0.70       623\n",
            "           1       0.76      0.65      0.70       642\n",
            "           2       0.73      0.56      0.64       610\n",
            "\n",
            "    accuracy                           0.68      1875\n",
            "   macro avg       0.70      0.68      0.68      1875\n",
            "weighted avg       0.70      0.68      0.68      1875\n",
            "\n",
            "[[516  68  39]\n",
            " [136 418  88]\n",
            " [202  65 343]]\n",
            "**************************************************\n",
            "Naive Bayes\n",
            "train accuracy:  0.7288248632786448\n",
            "test accuracy:  0.6304\n",
            "              precision    recall  f1-score   support\n",
            "\n",
            "           0       0.58      0.50      0.54       623\n",
            "           1       0.76      0.74      0.75       642\n",
            "           2       0.56      0.65      0.60       610\n",
            "\n",
            "    accuracy                           0.63      1875\n",
            "   macro avg       0.63      0.63      0.63      1875\n",
            "weighted avg       0.63      0.63      0.63      1875\n",
            "\n",
            "[[314  63 246]\n",
            " [105 473  64]\n",
            " [126  89 395]]\n",
            "**************************************************\n",
            "SVC\n",
            "train accuracy:  0.8374016273175937\n",
            "test accuracy:  0.6784\n",
            "              precision    recall  f1-score   support\n",
            "\n",
            "           0       0.61      0.81      0.70       623\n",
            "           1       0.70      0.78      0.74       642\n",
            "           2       0.79      0.43      0.56       610\n",
            "\n",
            "    accuracy                           0.68      1875\n",
            "   macro avg       0.70      0.68      0.67      1875\n",
            "weighted avg       0.70      0.68      0.67      1875\n",
            "\n",
            "[[506  82  35]\n",
            " [104 502  36]\n",
            " [217 129 264]]\n",
            "**************************************************\n",
            "KNN\n",
            "train accuracy:  0.5500867013472055\n",
            "test accuracy:  0.47786666666666666\n",
            "              precision    recall  f1-score   support\n",
            "\n",
            "           0       0.43      0.93      0.59       623\n",
            "           1       0.85      0.08      0.15       642\n",
            "           2       0.56      0.44      0.49       610\n",
            "\n",
            "    accuracy                           0.48      1875\n",
            "   macro avg       0.61      0.48      0.41      1875\n",
            "weighted avg       0.62      0.48      0.41      1875\n",
            "\n",
            "[[577   3  43]\n",
            " [427  51 164]\n",
            " [336   6 268]]\n",
            "**************************************************\n",
            "xgboost\n",
            "train accuracy:  0.8670134720554888\n",
            "test accuracy:  0.8005333333333333\n",
            "              precision    recall  f1-score   support\n",
            "\n",
            "           0       0.85      0.79      0.82       623\n",
            "           1       0.71      0.84      0.77       642\n",
            "           2       0.88      0.77      0.82       610\n",
            "\n",
            "    accuracy                           0.80      1875\n",
            "   macro avg       0.81      0.80      0.80      1875\n",
            "weighted avg       0.81      0.80      0.80      1875\n",
            "\n",
            "[[492 104  27]\n",
            " [ 63 541  38]\n",
            " [ 25 117 468]]\n",
            "**************************************************\n"
          ]
        }
      ]
    },
    {
      "cell_type": "code",
      "source": [
        "#TF_IDF vectorizer\n",
        "tfvectorizer=TfidfVectorizer()\n",
        "x=tfvectorizer.fit_transform(df[\"clean text\"])\n",
        "y=df[\"Sentiment\"]"
      ],
      "metadata": {
        "id": "IVpNMHMgFLaC"
      },
      "execution_count": null,
      "outputs": []
    },
    {
      "cell_type": "code",
      "source": [
        "#balnce the sentiment column\n",
        "\n",
        "smote=SMOTE()\n",
        "\n",
        "x,y=smote.fit_resample(x,y)\n",
        "\n",
        "print(y.value_counts())"
      ],
      "metadata": {
        "colab": {
          "base_uri": "https://localhost:8080/"
        },
        "id": "dA9aHBOiFRvM",
        "outputId": "783f116c-63e1-4cb7-981b-41d44d3cd47e"
      },
      "execution_count": null,
      "outputs": [
        {
          "output_type": "stream",
          "name": "stdout",
          "text": [
            "Sentiment\n",
            "2    3124\n",
            "0    3124\n",
            "1    3124\n",
            "Name: count, dtype: int64\n"
          ]
        }
      ]
    },
    {
      "cell_type": "code",
      "source": [
        "#train_test split\n",
        "x_train,x_test,y_train,y_test=train_test_split(x,y,test_size=0.2,random_state=42)\n",
        "\n",
        "models={\"LogisticRegression\":LogisticRegression(),\n",
        "        \"Naive Bayes\":MultinomialNB(),\n",
        "        \"SVC\":SVC(),\n",
        "        \"KNN\":KNeighborsClassifier(),\n",
        "        \"xgboost\":XGBClassifier()}"
      ],
      "metadata": {
        "id": "ejSFBuqqFW7f"
      },
      "execution_count": null,
      "outputs": []
    },
    {
      "cell_type": "code",
      "source": [
        "for name, model in models.items():\n",
        "    if name==\"Naive Bayes\":\n",
        "        model.fit(x_train.toarray(),y_train)\n",
        "        y_pred_train=model.predict(x_train.toarray())\n",
        "        y_pred=model.predict(x_test.toarray())\n",
        "\n",
        "    else:\n",
        "        model.fit(x_train,y_train)\n",
        "        y_pred_train=model.predict(x_train)\n",
        "        y_pred=model.predict(x_test)\n",
        "\n",
        "    print(f\"{name}\")\n",
        "    print(\"train accuracy: \",accuracy_score(y_train,y_pred_train))\n",
        "    print(\"test accuracy: \",accuracy_score(y_test,y_pred))\n",
        "    print(classification_report(y_test,y_pred))\n",
        "    print(confusion_matrix(y_test,y_pred))\n",
        "    print(\"*\"*50)"
      ],
      "metadata": {
        "id": "x_VdA0OlFav0",
        "outputId": "18dae0cb-a43c-45f2-80c9-3422b58508d2",
        "colab": {
          "base_uri": "https://localhost:8080/"
        }
      },
      "execution_count": null,
      "outputs": [
        {
          "output_type": "stream",
          "name": "stdout",
          "text": [
            "LogisticRegression\n",
            "train accuracy:  0.8950246765372816\n",
            "test accuracy:  0.8224\n",
            "              precision    recall  f1-score   support\n",
            "\n",
            "           0       0.80      0.89      0.84       623\n",
            "           1       0.81      0.74      0.78       642\n",
            "           2       0.86      0.83      0.85       610\n",
            "\n",
            "    accuracy                           0.82      1875\n",
            "   macro avg       0.82      0.82      0.82      1875\n",
            "weighted avg       0.82      0.82      0.82      1875\n",
            "\n",
            "[[557  44  22]\n",
            " [104 478  60]\n",
            " [ 37  66 507]]\n",
            "**************************************************\n",
            "Naive Bayes\n",
            "train accuracy:  0.8578097905828999\n",
            "test accuracy:  0.7925333333333333\n",
            "              precision    recall  f1-score   support\n",
            "\n",
            "           0       0.73      0.93      0.82       623\n",
            "           1       0.83      0.71      0.76       642\n",
            "           2       0.85      0.74      0.79       610\n",
            "\n",
            "    accuracy                           0.79      1875\n",
            "   macro avg       0.80      0.79      0.79      1875\n",
            "weighted avg       0.80      0.79      0.79      1875\n",
            "\n",
            "[[581  28  14]\n",
            " [125 453  64]\n",
            " [ 92  66 452]]\n",
            "**************************************************\n",
            "SVC\n",
            "train accuracy:  0.9391756702681072\n",
            "test accuracy:  0.8336\n",
            "              precision    recall  f1-score   support\n",
            "\n",
            "           0       0.82      0.87      0.85       623\n",
            "           1       0.75      0.82      0.79       642\n",
            "           2       0.96      0.80      0.87       610\n",
            "\n",
            "    accuracy                           0.83      1875\n",
            "   macro avg       0.85      0.83      0.84      1875\n",
            "weighted avg       0.84      0.83      0.84      1875\n",
            "\n",
            "[[545  75   3]\n",
            " [ 96 529  17]\n",
            " [ 21 100 489]]\n",
            "**************************************************\n",
            "KNN\n",
            "train accuracy:  0.6976123782846472\n",
            "test accuracy:  0.6101333333333333\n",
            "              precision    recall  f1-score   support\n",
            "\n",
            "           0       0.53      0.97      0.69       623\n",
            "           1       0.93      0.16      0.28       642\n",
            "           2       0.69      0.71      0.70       610\n",
            "\n",
            "    accuracy                           0.61      1875\n",
            "   macro avg       0.72      0.62      0.56      1875\n",
            "weighted avg       0.72      0.61      0.55      1875\n",
            "\n",
            "[[606   3  14]\n",
            " [359 104 179]\n",
            " [171   5 434]]\n",
            "**************************************************\n",
            "xgboost\n",
            "train accuracy:  0.8848872882486328\n",
            "test accuracy:  0.7946666666666666\n",
            "              precision    recall  f1-score   support\n",
            "\n",
            "           0       0.83      0.80      0.81       623\n",
            "           1       0.73      0.80      0.76       642\n",
            "           2       0.85      0.79      0.82       610\n",
            "\n",
            "    accuracy                           0.79      1875\n",
            "   macro avg       0.80      0.79      0.80      1875\n",
            "weighted avg       0.80      0.79      0.80      1875\n",
            "\n",
            "[[498  92  33]\n",
            " [ 76 512  54]\n",
            " [ 28 102 480]]\n",
            "**************************************************\n"
          ]
        }
      ]
    },
    {
      "cell_type": "code",
      "source": [
        "\n",
        "# Test accuracies from your results (only test accuracies)\n",
        "countvectorizer_acc = [0.68, 0.5584, 0.6811, 0.4805, 0.7952]  # Logistic, Naive Bayes, SVC, KNN, XGBoost\n",
        "tfidf_acc = [0.8229, 0.7243, 0.8320, 0.6208, 0.7883]           # Logistic, Naive Bayes, SVC, KNN, XGBoost\n",
        "\n",
        "models = ['Logistic Regression', 'Naive Bayes', 'SVC', 'KNN', 'XGBoost']\n",
        "\n",
        "x = np.arange(len(models))  # location of groups\n",
        "width = 0.35  # width of the bars\n",
        "\n",
        "# Create the bar plot\n",
        "plt.figure(figsize=(10,6))\n",
        "\n",
        "plt.bar(x - width/2, countvectorizer_acc, width, label='CountVectorizer+ SMOTE', color='skyblue')\n",
        "plt.bar(x + width/2, tfidf_acc, width, label='TF-IDF + SMOTE', color='lightgreen')\n",
        "\n",
        "plt.xticks(x, models, rotation=45, ha='right')\n",
        "plt.ylabel('Test Accuracy')\n",
        "plt.title('Comparison of Test Accuracies')\n",
        "plt.ylim(0, 1)\n",
        "plt.legend()\n",
        "plt.grid(True)\n",
        "\n",
        "# Add numbers on top of bars\n",
        "for i in range(len(models)):\n",
        "    plt.text(x[i] - width/2, countvectorizer_acc[i] + 0.01, f\"{countvectorizer_acc[i]:.2f}\", ha='center')\n",
        "    plt.text(x[i] + width/2, tfidf_acc[i] + 0.01, f\"{tfidf_acc[i]:.2f}\", ha='center')\n",
        "\n",
        "plt.tight_layout()\n",
        "plt.show()"
      ],
      "metadata": {
        "id": "Vzve9I9_Fd3-",
        "outputId": "7f0e2d0a-0a8e-4ac9-95b1-6a71339e14cd",
        "colab": {
          "base_uri": "https://localhost:8080/",
          "height": 607
        }
      },
      "execution_count": null,
      "outputs": [
        {
          "output_type": "display_data",
          "data": {
            "text/plain": [
              "<Figure size 1000x600 with 1 Axes>"
            ],
            "image/png": "[encoded data removed]"
          },
          "metadata": {}
        }
      ]
    },
    {
      "cell_type": "code",
      "source": [
        "# Prepare data\n",
        "data = {\n",
        "    'Model': ['Logistic Regression', 'Naive Bayes', 'SVC', 'KNN', 'XGBoost'],\n",
        "    'CountVectorizer Test Accuracy': [0.68, 0.56, 0.68, 0.48, 0.80],\n",
        "    'TF-IDF + SMOTE Test Accuracy': [0.82, 0.72, 0.83, 0.62, 0.79]\n",
        "}\n",
        "\n",
        "# Create a DataFrame\n",
        "pd.DataFrame(data)"
      ],
      "metadata": {
        "id": "GxPryg75FkGr",
        "outputId": "86f9d156-0e5b-4dac-beb0-9785fa89d284",
        "colab": {
          "base_uri": "https://localhost:8080/",
          "height": 206
        }
      },
      "execution_count": null,
      "outputs": [
        {
          "output_type": "execute_result",
          "data": {
            "text/plain": [
              "                 Model  CountVectorizer Test Accuracy  \\\n",
              "0  Logistic Regression                           0.68   \n",
              "1          Naive Bayes                           0.56   \n",
              "2                  SVC                           0.68   \n",
              "3                  KNN                           0.48   \n",
              "4              XGBoost                           0.80   \n",
              "\n",
              "   TF-IDF + SMOTE Test Accuracy  \n",
              "0                          0.82  \n",
              "1                          0.72  \n",
              "2                          0.83  \n",
              "3                          0.62  \n",
              "4                          0.79  "
            ],
            "text/html": [
              "\n",
              "  <div id=\"df-15619f31-2892-494a-88c1-319f9513f83e\" class=\"colab-df-container\">\n",
              "    <div>\n",
              "<style scoped>\n",
              "    .dataframe tbody tr th:only-of-type {\n",
              "        vertical-align: middle;\n",
              "    }\n",
              "\n",
              "    .dataframe tbody tr th {\n",
              "        vertical-align: top;\n",
              "    }\n",
              "\n",
              "    .dataframe thead th {\n",
              "        text-align: right;\n",
              "    }\n",
              "</style>\n",
              "<table border=\"1\" class=\"dataframe\">\n",
              "  <thead>\n",
              "    <tr style=\"text-align: right;\">\n",
              "      <th></th>\n",
              "      <th>Model</th>\n",
              "      <th>CountVectorizer Test Accuracy</th>\n",
              "      <th>TF-IDF + SMOTE Test Accuracy</th>\n",
              "    </tr>\n",
              "  </thead>\n",
              "  <tbody>\n",
              "    <tr>\n",
              "      <th>0</th>\n",
              "      <td>Logistic Regression</td>\n",
              "      <td>0.68</td>\n",
              "      <td>0.82</td>\n",
              "    </tr>\n",
              "    <tr>\n",
              "      <th>1</th>\n",
              "      <td>Naive Bayes</td>\n",
              "      <td>0.56</td>\n",
              "      <td>0.72</td>\n",
              "    </tr>\n",
              "    <tr>\n",
              "      <th>2</th>\n",
              "      <td>SVC</td>\n",
              "      <td>0.68</td>\n",
              "      <td>0.83</td>\n",
              "    </tr>\n",
              "    <tr>\n",
              "      <th>3</th>\n",
              "      <td>KNN</td>\n",
              "      <td>0.48</td>\n",
              "      <td>0.62</td>\n",
              "    </tr>\n",
              "    <tr>\n",
              "      <th>4</th>\n",
              "      <td>XGBoost</td>\n",
              "      <td>0.80</td>\n",
              "      <td>0.79</td>\n",
              "    </tr>\n",
              "  </tbody>\n",
              "</table>\n",
              "</div>\n",
              "    <div class=\"colab-df-buttons\">\n",
              "\n",
              "  <div class=\"colab-df-container\">\n",
              "    <button class=\"colab-df-convert\" onclick=\"convertToInteractive('df-15619f31-2892-494a-88c1-319f9513f83e')\"\n",
              "            title=\"Convert this dataframe to an interactive table.\"\n",
              "            style=\"display:none;\">\n",
              "\n",
              "  <svg xmlns=\"http://www.w3.org/2000/svg\" height=\"24px\" viewBox=\"0 -960 960 960\">\n",
              "    <path d=\"M120-120v-720h720v720H120Zm60-500h600v-160H180v160Zm220 220h160v-160H400v160Zm0 220h160v-160H400v160ZM180-400h160v-160H180v160Zm440 0h160v-160H620v160ZM180-180h160v-160H180v160Zm440 0h160v-160H620v160Z\"/>\n",
              "  </svg>\n",
              "    </button>\n",
              "\n",
              "  <style>\n",
              "    .colab-df-container {\n",
              "      display:flex;\n",
              "      gap: 12px;\n",
              "    }\n",
              "\n",
              "    .colab-df-convert {\n",
              "      background-color: #E8F0FE;\n",
              "      border: none;\n",
              "      border-radius: 50%;\n",
              "      cursor: pointer;\n",
              "      display: none;\n",
              "      fill: #1967D2;\n",
              "      height: 32px;\n",
              "      padding: 0 0 0 0;\n",
              "      width: 32px;\n",
              "    }\n",
              "\n",
              "    .colab-df-convert:hover {\n",
              "      background-color: #E2EBFA;\n",
              "      box-shadow: 0px 1px 2px rgba(60, 64, 67, 0.3), 0px 1px 3px 1px rgba(60, 64, 67, 0.15);\n",
              "      fill: #174EA6;\n",
              "    }\n",
              "\n",
              "    .colab-df-buttons div {\n",
              "      margin-bottom: 4px;\n",
              "    }\n",
              "\n",
              "    [theme=dark] .colab-df-convert {\n",
              "      background-color: #3B4455;\n",
              "      fill: #D2E3FC;\n",
              "    }\n",
              "\n",
              "    [theme=dark] .colab-df-convert:hover {\n",
              "      background-color: #434B5C;\n",
              "      box-shadow: 0px 1px 3px 1px rgba(0, 0, 0, 0.15);\n",
              "      filter: drop-shadow(0px 1px 2px rgba(0, 0, 0, 0.3));\n",
              "      fill: #FFFFFF;\n",
              "    }\n",
              "  </style>\n",
              "\n",
              "    <script>\n",
              "      const buttonEl =\n",
              "        document.querySelector('#df-15619f31-2892-494a-88c1-319f9513f83e button.colab-df-convert');\n",
              "      buttonEl.style.display =\n",
              "        google.colab.kernel.accessAllowed ? 'block' : 'none';\n",
              "\n",
              "      async function convertToInteractive(key) {\n",
              "        const element = document.querySelector('#df-15619f31-2892-494a-88c1-319f9513f83e');\n",
              "        const dataTable =\n",
              "          await google.colab.kernel.invokeFunction('convertToInteractive',\n",
              "                                                    [key], {});\n",
              "        if (!dataTable) return;\n",
              "\n",
              "        const docLinkHtml = 'Like what you see? Visit the ' +\n",
              "          '<a target=\"_blank\" href=https://colab.research.google.com/notebooks/data_table.ipynb>data table notebook</a>'\n",
              "          + ' to learn more about interactive tables.';\n",
              "        element.innerHTML = '';\n",
              "        dataTable['output_type'] = 'display_data';\n",
              "        await google.colab.output.renderOutput(dataTable, element);\n",
              "        const docLink = document.createElement('div');\n",
              "        docLink.innerHTML = docLinkHtml;\n",
              "        element.appendChild(docLink);\n",
              "      }\n",
              "    </script>\n",
              "  </div>\n",
              "\n",
              "\n",
              "    <div id=\"df-6e200847-af9d-4f5d-813c-220b2b1ac069\">\n",
              "      <button class=\"colab-df-quickchart\" onclick=\"quickchart('df-6e200847-af9d-4f5d-813c-220b2b1ac069')\"\n",
              "                title=\"Suggest charts\"\n",
              "                style=\"display:none;\">\n",
              "\n",
              "<svg xmlns=\"http://www.w3.org/2000/svg\" height=\"24px\"viewBox=\"0 0 24 24\"\n",
              "     width=\"24px\">\n",
              "    <g>\n",
              "        <path d=\"M19 3H5c-1.1 0-2 .9-2 2v14c0 1.1.9 2 2 2h14c1.1 0 2-.9 2-2V5c0-1.1-.9-2-2-2zM9 17H7v-7h2v7zm4 0h-2V7h2v10zm4 0h-2v-4h2v4z\"/>\n",
              "    </g>\n",
              "</svg>\n",
              "      </button>\n",
              "\n",
              "<style>\n",
              "  .colab-df-quickchart {\n",
              "      --bg-color: #E8F0FE;\n",
              "      --fill-color: #1967D2;\n",
              "      --hover-bg-color: #E2EBFA;\n",
              "      --hover-fill-color: #174EA6;\n",
              "      --disabled-fill-color: #AAA;\n",
              "      --disabled-bg-color: #DDD;\n",
              "  }\n",
              "\n",
              "  [theme=dark] .colab-df-quickchart {\n",
              "      --bg-color: #3B4455;\n",
              "      --fill-color: #D2E3FC;\n",
              "      --hover-bg-color: #434B5C;\n",
              "      --hover-fill-color: #FFFFFF;\n",
              "      --disabled-bg-color: #3B4455;\n",
              "      --disabled-fill-color: #666;\n",
              "  }\n",
              "\n",
              "  .colab-df-quickchart {\n",
              "    background-color: var(--bg-color);\n",
              "    border: none;\n",
              "    border-radius: 50%;\n",
              "    cursor: pointer;\n",
              "    display: none;\n",
              "    fill: var(--fill-color);\n",
              "    height: 32px;\n",
              "    padding: 0;\n",
              "    width: 32px;\n",
              "  }\n",
              "\n",
              "  .colab-df-quickchart:hover {\n",
              "    background-color: var(--hover-bg-color);\n",
              "    box-shadow: 0 1px 2px rgba(60, 64, 67, 0.3), 0 1px 3px 1px rgba(60, 64, 67, 0.15);\n",
              "    fill: var(--button-hover-fill-color);\n",
              "  }\n",
              "\n",
              "  .colab-df-quickchart-complete:disabled,\n",
              "  .colab-df-quickchart-complete:disabled:hover {\n",
              "    background-color: var(--disabled-bg-color);\n",
              "    fill: var(--disabled-fill-color);\n",
              "    box-shadow: none;\n",
              "  }\n",
              "\n",
              "  .colab-df-spinner {\n",
              "    border: 2px solid var(--fill-color);\n",
              "    border-color: transparent;\n",
              "    border-bottom-color: var(--fill-color);\n",
              "    animation:\n",
              "      spin 1s steps(1) infinite;\n",
              "  }\n",
              "\n",
              "  @keyframes spin {\n",
              "    0% {\n",
              "      border-color: transparent;\n",
              "      border-bottom-color: var(--fill-color);\n",
              "      border-left-color: var(--fill-color);\n",
              "    }\n",
              "    20% {\n",
              "      border-color: transparent;\n",
              "      border-left-color: var(--fill-color);\n",
              "      border-top-color: var(--fill-color);\n",
              "    }\n",
              "    30% {\n",
              "      border-color: transparent;\n",
              "      border-left-color: var(--fill-color);\n",
              "      border-top-color: var(--fill-color);\n",
              "      border-right-color: var(--fill-color);\n",
              "    }\n",
              "    40% {\n",
              "      border-color: transparent;\n",
              "      border-right-color: var(--fill-color);\n",
              "      border-top-color: var(--fill-color);\n",
              "    }\n",
              "    60% {\n",
              "      border-color: transparent;\n",
              "      border-right-color: var(--fill-color);\n",
              "    }\n",
              "    80% {\n",
              "      border-color: transparent;\n",
              "      border-right-color: var(--fill-color);\n",
              "      border-bottom-color: var(--fill-color);\n",
              "    }\n",
              "    90% {\n",
              "      border-color: transparent;\n",
              "      border-bottom-color: var(--fill-color);\n",
              "    }\n",
              "  }\n",
              "</style>\n",
              "\n",
              "      <script>\n",
              "        async function quickchart(key) {\n",
              "          const quickchartButtonEl =\n",
              "            document.querySelector('#' + key + ' button');\n",
              "          quickchartButtonEl.disabled = true;  // To prevent multiple clicks.\n",
              "          quickchartButtonEl.classList.add('colab-df-spinner');\n",
              "          try {\n",
              "            const charts = await google.colab.kernel.invokeFunction(\n",
              "                'suggestCharts', [key], {});\n",
              "          } catch (error) {\n",
              "            console.error('Error during call to suggestCharts:', error);\n",
              "          }\n",
              "          quickchartButtonEl.classList.remove('colab-df-spinner');\n",
              "          quickchartButtonEl.classList.add('colab-df-quickchart-complete');\n",
              "        }\n",
              "        (() => {\n",
              "          let quickchartButtonEl =\n",
              "            document.querySelector('#df-6e200847-af9d-4f5d-813c-220b2b1ac069 button');\n",
              "          quickchartButtonEl.style.display =\n",
              "            google.colab.kernel.accessAllowed ? 'block' : 'none';\n",
              "        })();\n",
              "      </script>\n",
              "    </div>\n",
              "\n",
              "    </div>\n",
              "  </div>\n"
            ],
            "application/vnd.google.colaboratory.intrinsic+json": {
              "type": "dataframe",
              "summary": "{\n  \"name\": \"pd\",\n  \"rows\": 5,\n  \"fields\": [\n    {\n      \"column\": \"Model\",\n      \"properties\": {\n        \"dtype\": \"string\",\n        \"num_unique_values\": 5,\n        \"samples\": [\n          \"Naive Bayes\",\n          \"XGBoost\",\n          \"SVC\"\n        ],\n        \"semantic_type\": \"\",\n        \"description\": \"\"\n      }\n    },\n    {\n      \"column\": \"CountVectorizer Test Accuracy\",\n      \"properties\": {\n        \"dtype\": \"number\",\n        \"std\": 0.12328828005937956,\n        \"min\": 0.48,\n        \"max\": 0.8,\n        \"num_unique_values\": 4,\n        \"samples\": [\n          0.56,\n          0.8,\n          0.68\n        ],\n        \"semantic_type\": \"\",\n        \"description\": \"\"\n      }\n    },\n    {\n      \"column\": \"TF-IDF + SMOTE Test Accuracy\",\n      \"properties\": {\n        \"dtype\": \"number\",\n        \"std\": 0.08734987120768982,\n        \"min\": 0.62,\n        \"max\": 0.83,\n        \"num_unique_values\": 5,\n        \"samples\": [\n          0.72,\n          0.79,\n          0.83\n        ],\n        \"semantic_type\": \"\",\n        \"description\": \"\"\n      }\n    }\n  ]\n}"
            }
          },
          "metadata": {},
          "execution_count": 24
        }
      ]
    },
    {
      "cell_type": "markdown",
      "source": [
        "# ***cross validation***"
      ],
      "metadata": {
        "id": "_i16WBGUobxY"
      }
    },
    {
      "cell_type": "code",
      "source": [
        "# cross validation and Count vectorizer\n",
        "\n",
        "# Shuffle and prepare data\n",
        "df = df.sample(frac=1).reset_index(drop=True)\n",
        "df['fold'] = -1\n",
        "\n",
        "# Set input (text) and target (label)\n",
        "x = df[\"clean text\"]\n",
        "y = df['Sentiment']\n",
        "\n",
        "# 5-Fold setup\n",
        "n = 5\n",
        "kf = StratifiedKFold(n_splits=n)\n",
        "\n",
        "# Assign fold numbers\n",
        "for k, (train_idx, test_idx) in enumerate(kf.split(x, y)):\n",
        "    df.loc[test_idx, 'fold'] = k\n",
        "\n",
        "# Define models\n",
        "models = {\n",
        "    \"LogisticRegression\": LogisticRegression(),\n",
        "    \"Naive Bayes\": MultinomialNB(),\n",
        "    \"SVC\": SVC(),\n",
        "    \"KNN\": KNeighborsClassifier(),\n",
        "    \"XGBoost\": XGBClassifier(use_label_encoder=False, eval_metric='mlogloss')\n",
        "}\n",
        "\n",
        "# Create dictionary to save results\n",
        "results = {}\n",
        "\n",
        "# Try each model\n",
        "for model_name, model_instance in models.items():\n",
        "    print(f\"\\n----- Model: {model_name} -----\")\n",
        "\n",
        "    precision_scores = []\n",
        "    recall_scores = []\n",
        "\n",
        "    for k in range(n):\n",
        "        train = df[df.fold != k].reset_index(drop=True)\n",
        "        test = df[df.fold == k].reset_index(drop=True)\n",
        "\n",
        "        # Create a fresh TF-IDF vectorizer for every fold\n",
        "        vectorizer = CountVectorizer()\n",
        "\n",
        "        # Fit vectorizer only on training text\n",
        "        vectorizer.fit(train[\"clean text\"])\n",
        "\n",
        "        # Transform texts into vectors\n",
        "        x_train = vectorizer.transform(train[\"clean text\"])\n",
        "        y_train = train[\"Sentiment\"]\n",
        "\n",
        "        x_test = vectorizer.transform(test[\"clean text\"])\n",
        "        y_test = test[\"Sentiment\"]\n",
        "\n",
        "        # Create a new model instance for each fold\n",
        "        model = model_instance.__class__(**model_instance.get_params())\n",
        "        model.fit(x_train, y_train)\n",
        "\n",
        "        # Predict\n",
        "        preds = model.predict(x_test)\n",
        "\n",
        "        # Metrics\n",
        "        precision = precision_score(y_test, preds, average='micro')\n",
        "        recall = recall_score(y_test, preds, average='micro')\n",
        "\n",
        "        precision_scores.append(precision)\n",
        "        recall_scores.append(recall)\n",
        "\n",
        "        print(f\"Fold {k} - Precision: {precision:.4f}, Recall: {recall:.4f}\")\n",
        "\n",
        "    # After all folds, show average scores\n",
        "    avg_precision = sum(precision_scores) / n\n",
        "    avg_recall = sum(recall_scores) / n\n",
        "\n",
        "    print(f\"\\nAverage Precision for {model_name}: {avg_precision:.4f}\")\n",
        "    print(f\"Average Recall for {model_name}: {avg_recall:.4f}\")\n",
        "\n",
        "    # Save average precision for plotting\n",
        "    results[model_name] = avg_precision\n",
        "\n",
        "    # Show final classification report (for last fold)\n",
        "    print(\"\\nClassification Report (last fold):\")\n",
        "    print(classification_report(y_test, preds, labels=[2, 0, 1]))\n",
        "    print(\"*\" * 60)\n",
        "\n",
        "# =====================\n",
        "# Now Plotting Results\n",
        "# =====================\n",
        "\n",
        "model_names = list(results.keys())\n",
        "average_precisions = list(results.values())\n",
        "\n",
        "plt.figure(figsize=(10,6))\n",
        "plt.barh(model_names, average_precisions)\n",
        "plt.xlabel(\"Mean CV Precision Score\")\n",
        "plt.title(\"Model Comparison (TF-IDF + StratifiedKFold)\")\n",
        "for index, value in enumerate(average_precisions):\n",
        "    plt.text(value + 0.01, index, f\"{value:.2f}\")\n",
        "plt.xlim(0, 1)\n",
        "plt.grid(True)\n",
        "plt.show()"
      ],
      "metadata": {
        "colab": {
          "base_uri": "https://localhost:8080/",
          "height": 1000
        },
        "id": "nrQChIB4ol8x",
        "outputId": "80671523-0872-4434-9440-6cbaf0df4b54"
      },
      "execution_count": null,
      "outputs": [
        {
          "output_type": "stream",
          "name": "stdout",
          "text": [
            "\n",
            "----- Model: LogisticRegression -----\n",
            "Fold 0 - Precision: 0.6498, Recall: 0.6498\n",
            "Fold 1 - Precision: 0.6692, Recall: 0.6692\n",
            "Fold 2 - Precision: 0.6795, Recall: 0.6795\n",
            "Fold 3 - Precision: 0.6692, Recall: 0.6692\n",
            "Fold 4 - Precision: 0.6812, Recall: 0.6812\n",
            "\n",
            "Average Precision for LogisticRegression: 0.6698\n",
            "Average Recall for LogisticRegression: 0.6698\n",
            "\n",
            "Classification Report (last fold):\n",
            "              precision    recall  f1-score   support\n",
            "\n",
            "           2       0.76      0.67      0.71       370\n",
            "           0       0.34      0.24      0.28       172\n",
            "           1       0.70      0.81      0.75       625\n",
            "\n",
            "    accuracy                           0.68      1167\n",
            "   macro avg       0.60      0.57      0.58      1167\n",
            "weighted avg       0.67      0.68      0.67      1167\n",
            "\n",
            "************************************************************\n",
            "\n",
            "----- Model: Naive Bayes -----\n",
            "Fold 0 - Precision: 0.6584, Recall: 0.6584\n",
            "Fold 1 - Precision: 0.6881, Recall: 0.6881\n",
            "Fold 2 - Precision: 0.6864, Recall: 0.6864\n",
            "Fold 3 - Precision: 0.6949, Recall: 0.6949\n",
            "Fold 4 - Precision: 0.6829, Recall: 0.6829\n",
            "\n",
            "Average Precision for Naive Bayes: 0.6821\n",
            "Average Recall for Naive Bayes: 0.6821\n",
            "\n",
            "Classification Report (last fold):\n",
            "              precision    recall  f1-score   support\n",
            "\n",
            "           2       0.68      0.64      0.66       370\n",
            "           0       0.42      0.33      0.37       172\n",
            "           1       0.74      0.81      0.77       625\n",
            "\n",
            "    accuracy                           0.68      1167\n",
            "   macro avg       0.61      0.59      0.60      1167\n",
            "weighted avg       0.67      0.68      0.68      1167\n",
            "\n",
            "************************************************************\n",
            "\n",
            "----- Model: SVC -----\n",
            "Fold 0 - Precision: 0.6610, Recall: 0.6610\n",
            "Fold 1 - Precision: 0.6761, Recall: 0.6761\n",
            "Fold 2 - Precision: 0.6701, Recall: 0.6701\n",
            "Fold 3 - Precision: 0.6675, Recall: 0.6675\n",
            "Fold 4 - Precision: 0.6710, Recall: 0.6710\n",
            "\n",
            "Average Precision for SVC: 0.6691\n",
            "Average Recall for SVC: 0.6691\n",
            "\n",
            "Classification Report (last fold):\n",
            "              precision    recall  f1-score   support\n",
            "\n",
            "           2       0.77      0.50      0.61       370\n",
            "           0       0.39      0.10      0.16       172\n",
            "           1       0.66      0.93      0.77       625\n",
            "\n",
            "    accuracy                           0.67      1167\n",
            "   macro avg       0.61      0.51      0.51      1167\n",
            "weighted avg       0.65      0.67      0.63      1167\n",
            "\n",
            "************************************************************\n",
            "\n",
            "----- Model: KNN -----\n",
            "Fold 0 - Precision: 0.5796, Recall: 0.5796\n",
            "Fold 1 - Precision: 0.5750, Recall: 0.5750\n",
            "Fold 2 - Precision: 0.5544, Recall: 0.5544\n",
            "Fold 3 - Precision: 0.5656, Recall: 0.5656\n",
            "Fold 4 - Precision: 0.5835, Recall: 0.5835\n",
            "\n",
            "Average Precision for KNN: 0.5716\n",
            "Average Recall for KNN: 0.5716\n",
            "\n",
            "Classification Report (last fold):\n",
            "              precision    recall  f1-score   support\n",
            "\n",
            "           2       0.75      0.21      0.33       370\n",
            "           0       0.25      0.08      0.12       172\n",
            "           1       0.58      0.94      0.72       625\n",
            "\n",
            "    accuracy                           0.58      1167\n",
            "   macro avg       0.53      0.41      0.39      1167\n",
            "weighted avg       0.59      0.58      0.51      1167\n",
            "\n",
            "************************************************************\n",
            "\n",
            "----- Model: XGBoost -----\n"
          ]
        },
        {
          "output_type": "stream",
          "name": "stderr",
          "text": [
            "/usr/local/lib/python3.11/dist-packages/xgboost/core.py:158: UserWarning: [09:29:36] WARNING: /workspace/src/learner.cc:740: \n",
            "Parameters: { \"use_label_encoder\" } are not used.\n",
            "\n",
            "  warnings.warn(smsg, UserWarning)\n"
          ]
        },
        {
          "output_type": "stream",
          "name": "stdout",
          "text": [
            "Fold 0 - Precision: 0.6618, Recall: 0.6618\n"
          ]
        },
        {
          "output_type": "stream",
          "name": "stderr",
          "text": [
            "/usr/local/lib/python3.11/dist-packages/xgboost/core.py:158: UserWarning: [09:29:40] WARNING: /workspace/src/learner.cc:740: \n",
            "Parameters: { \"use_label_encoder\" } are not used.\n",
            "\n",
            "  warnings.warn(smsg, UserWarning)\n"
          ]
        },
        {
          "output_type": "stream",
          "name": "stdout",
          "text": [
            "Fold 1 - Precision: 0.6855, Recall: 0.6855\n"
          ]
        },
        {
          "output_type": "stream",
          "name": "stderr",
          "text": [
            "/usr/local/lib/python3.11/dist-packages/xgboost/core.py:158: UserWarning: [09:29:43] WARNING: /workspace/src/learner.cc:740: \n",
            "Parameters: { \"use_label_encoder\" } are not used.\n",
            "\n",
            "  warnings.warn(smsg, UserWarning)\n"
          ]
        },
        {
          "output_type": "stream",
          "name": "stdout",
          "text": [
            "Fold 2 - Precision: 0.6769, Recall: 0.6769\n"
          ]
        },
        {
          "output_type": "stream",
          "name": "stderr",
          "text": [
            "/usr/local/lib/python3.11/dist-packages/xgboost/core.py:158: UserWarning: [09:29:46] WARNING: /workspace/src/learner.cc:740: \n",
            "Parameters: { \"use_label_encoder\" } are not used.\n",
            "\n",
            "  warnings.warn(smsg, UserWarning)\n"
          ]
        },
        {
          "output_type": "stream",
          "name": "stdout",
          "text": [
            "Fold 3 - Precision: 0.6787, Recall: 0.6787\n"
          ]
        },
        {
          "output_type": "stream",
          "name": "stderr",
          "text": [
            "/usr/local/lib/python3.11/dist-packages/xgboost/core.py:158: UserWarning: [09:29:51] WARNING: /workspace/src/learner.cc:740: \n",
            "Parameters: { \"use_label_encoder\" } are not used.\n",
            "\n",
            "  warnings.warn(smsg, UserWarning)\n"
          ]
        },
        {
          "output_type": "stream",
          "name": "stdout",
          "text": [
            "Fold 4 - Precision: 0.6967, Recall: 0.6967\n",
            "\n",
            "Average Precision for XGBoost: 0.6799\n",
            "Average Recall for XGBoost: 0.6799\n",
            "\n",
            "Classification Report (last fold):\n",
            "              precision    recall  f1-score   support\n",
            "\n",
            "           2       0.78      0.59      0.67       370\n",
            "           0       0.49      0.20      0.29       172\n",
            "           1       0.69      0.90      0.78       625\n",
            "\n",
            "    accuracy                           0.70      1167\n",
            "   macro avg       0.65      0.56      0.58      1167\n",
            "weighted avg       0.69      0.70      0.67      1167\n",
            "\n",
            "************************************************************\n"
          ]
        },
        {
          "output_type": "display_data",
          "data": {
            "text/plain": [
              "<Figure size 1000x600 with 1 Axes>"
            ],
            "image/png": "[encoded data removed]"
          },
          "metadata": {}
        }
      ]
    },
    {
      "cell_type": "code",
      "source": [
        "#cross validation for selected models in TF_IDF vectorizer\n",
        "\n",
        "# Shuffle and prepare data\n",
        "df = df.sample(frac=1).reset_index(drop=True)\n",
        "df['fold'] = -1\n",
        "\n",
        "# Set input (text) and target (label)\n",
        "x = df[\"clean text\"]\n",
        "y = df['Sentiment']\n",
        "\n",
        "# 5-Fold setup\n",
        "n = 5\n",
        "kf = StratifiedKFold(n_splits=n)\n",
        "\n",
        "# Assign fold numbers\n",
        "for k, (train_idx, test_idx) in enumerate(kf.split(x, y)):\n",
        "    df.loc[test_idx, 'fold'] = k\n",
        "\n",
        "# Define models\n",
        "models = {\n",
        "    \"LogisticRegression\": LogisticRegression(),\n",
        "    \"Naive Bayes\": MultinomialNB(),\n",
        "    \"SVC\": SVC(),\n",
        "    \"KNN\": KNeighborsClassifier(),\n",
        "    \"XGBoost\": XGBClassifier(use_label_encoder=False, eval_metric='mlogloss')\n",
        "}\n",
        "\n",
        "# Create dictionary to save results\n",
        "results = {}\n",
        "\n",
        "# Try each model\n",
        "for model_name, model_instance in models.items():\n",
        "    print(f\"\\n----- Model: {model_name} -----\")\n",
        "\n",
        "    precision_scores = []\n",
        "    recall_scores = []\n",
        "\n",
        "    for k in range(n):\n",
        "        train = df[df.fold != k].reset_index(drop=True)\n",
        "        test = df[df.fold == k].reset_index(drop=True)\n",
        "\n",
        "        # Create a fresh TF-IDF vectorizer for every fold\n",
        "        vectorizer = TfidfVectorizer()\n",
        "\n",
        "        # Fit vectorizer only on training text\n",
        "        vectorizer.fit(train[\"clean text\"])\n",
        "\n",
        "        # Transform texts into vectors\n",
        "        x_train = vectorizer.transform(train[\"clean text\"])\n",
        "        y_train = train[\"Sentiment\"]\n",
        "\n",
        "        x_test = vectorizer.transform(test[\"clean text\"])\n",
        "        y_test = test[\"Sentiment\"]\n",
        "\n",
        "        # Create a new model instance for each fold\n",
        "        model = model_instance.__class__(**model_instance.get_params())\n",
        "        model.fit(x_train, y_train)\n",
        "\n",
        "        # Predict\n",
        "        preds = model.predict(x_test)\n",
        "\n",
        "        # Metrics\n",
        "        precision = precision_score(y_test, preds, average='micro')\n",
        "        recall = recall_score(y_test, preds, average='micro')\n",
        "\n",
        "        precision_scores.append(precision)\n",
        "        recall_scores.append(recall)\n",
        "\n",
        "        print(f\"Fold {k} - Precision: {precision:.4f}, Recall: {recall:.4f}\")\n",
        "\n",
        "    # After all folds, show average scores\n",
        "    avg_precision = sum(precision_scores) / n\n",
        "    avg_recall = sum(recall_scores) / n\n",
        "\n",
        "    print(f\"\\nAverage Precision for {model_name}: {avg_precision:.4f}\")\n",
        "    print(f\"Average Recall for {model_name}: {avg_recall:.4f}\")\n",
        "\n",
        "    # Save average precision for plotting\n",
        "    results[model_name] = avg_precision\n",
        "\n",
        "    # Show final classification report (for last fold)\n",
        "    print(\"\\nClassification Report (last fold):\")\n",
        "    print(classification_report(y_test, preds, labels=[2, 0, 1]))\n",
        "    print(\"*\" * 60)\n",
        "\n",
        "# =====================\n",
        "# Now Plotting Results\n",
        "# =====================\n",
        "\n",
        "model_names = list(results.keys())\n",
        "average_precisions = list(results.values())\n",
        "\n",
        "plt.figure(figsize=(10,6))\n",
        "plt.barh(model_names, average_precisions)\n",
        "plt.xlabel(\"Mean CV Precision Score\")\n",
        "plt.title(\"Model Comparison (TF-IDF + StratifiedKFold)\")\n",
        "for index, value in enumerate(average_precisions):\n",
        "    plt.text(value + 0.01, index, f\"{value:.2f}\")\n",
        "plt.xlim(0, 1)\n",
        "plt.grid(True)\n",
        "plt.show()"
      ],
      "metadata": {
        "colab": {
          "base_uri": "https://localhost:8080/",
          "height": 1000
        },
        "id": "Fc5b_iO2oi6B",
        "outputId": "733dc0f7-1565-40aa-c91b-8eb85a7c70d0"
      },
      "execution_count": null,
      "outputs": [
        {
          "output_type": "stream",
          "name": "stdout",
          "text": [
            "\n",
            "----- Model: LogisticRegression -----\n",
            "Fold 0 - Precision: 0.6995, Recall: 0.6995\n",
            "Fold 1 - Precision: 0.6949, Recall: 0.6949\n",
            "Fold 2 - Precision: 0.6932, Recall: 0.6932\n",
            "Fold 3 - Precision: 0.6881, Recall: 0.6881\n",
            "Fold 4 - Precision: 0.7035, Recall: 0.7035\n",
            "\n",
            "Average Precision for LogisticRegression: 0.6959\n",
            "Average Recall for LogisticRegression: 0.6959\n",
            "\n",
            "Classification Report (last fold):\n",
            "              precision    recall  f1-score   support\n",
            "\n",
            "           2       0.78      0.63      0.69       371\n",
            "           0       0.44      0.21      0.28       172\n",
            "           1       0.70      0.89      0.78       624\n",
            "\n",
            "    accuracy                           0.70      1167\n",
            "   macro avg       0.64      0.57      0.59      1167\n",
            "weighted avg       0.69      0.70      0.68      1167\n",
            "\n",
            "************************************************************\n",
            "\n",
            "----- Model: Naive Bayes -----\n",
            "Fold 0 - Precision: 0.6627, Recall: 0.6627\n",
            "Fold 1 - Precision: 0.6512, Recall: 0.6512\n",
            "Fold 2 - Precision: 0.6744, Recall: 0.6744\n",
            "Fold 3 - Precision: 0.6684, Recall: 0.6684\n",
            "Fold 4 - Precision: 0.6624, Recall: 0.6624\n",
            "\n",
            "Average Precision for Naive Bayes: 0.6638\n",
            "Average Recall for Naive Bayes: 0.6638\n",
            "\n",
            "Classification Report (last fold):\n",
            "              precision    recall  f1-score   support\n",
            "\n",
            "           2       0.75      0.43      0.55       371\n",
            "           0       0.53      0.05      0.09       172\n",
            "           1       0.64      0.97      0.77       624\n",
            "\n",
            "    accuracy                           0.66      1167\n",
            "   macro avg       0.64      0.48      0.47      1167\n",
            "weighted avg       0.66      0.66      0.60      1167\n",
            "\n",
            "************************************************************\n",
            "\n",
            "----- Model: SVC -----\n",
            "Fold 0 - Precision: 0.6678, Recall: 0.6678\n",
            "Fold 1 - Precision: 0.6829, Recall: 0.6829\n",
            "Fold 2 - Precision: 0.6735, Recall: 0.6735\n",
            "Fold 3 - Precision: 0.6632, Recall: 0.6632\n",
            "Fold 4 - Precision: 0.6744, Recall: 0.6744\n",
            "\n",
            "Average Precision for SVC: 0.6724\n",
            "Average Recall for SVC: 0.6724\n",
            "\n",
            "Classification Report (last fold):\n",
            "              precision    recall  f1-score   support\n",
            "\n",
            "           2       0.80      0.57      0.67       371\n",
            "           0       0.25      0.10      0.14       172\n",
            "           1       0.67      0.89      0.77       624\n",
            "\n",
            "    accuracy                           0.67      1167\n",
            "   macro avg       0.57      0.52      0.52      1167\n",
            "weighted avg       0.65      0.67      0.64      1167\n",
            "\n",
            "************************************************************\n",
            "\n",
            "----- Model: KNN -----\n",
            "Fold 0 - Precision: 0.6164, Recall: 0.6164\n",
            "Fold 1 - Precision: 0.6153, Recall: 0.6153\n",
            "Fold 2 - Precision: 0.6195, Recall: 0.6195\n",
            "Fold 3 - Precision: 0.6041, Recall: 0.6041\n",
            "Fold 4 - Precision: 0.6204, Recall: 0.6204\n",
            "\n",
            "Average Precision for KNN: 0.6151\n",
            "Average Recall for KNN: 0.6151\n",
            "\n",
            "Classification Report (last fold):\n",
            "              precision    recall  f1-score   support\n",
            "\n",
            "           2       0.70      0.39      0.50       371\n",
            "           0       0.32      0.25      0.28       172\n",
            "           1       0.65      0.86      0.74       624\n",
            "\n",
            "    accuracy                           0.62      1167\n",
            "   macro avg       0.56      0.50      0.51      1167\n",
            "weighted avg       0.62      0.62      0.60      1167\n",
            "\n",
            "************************************************************\n",
            "\n",
            "----- Model: XGBoost -----\n"
          ]
        },
        {
          "output_type": "stream",
          "name": "stderr",
          "text": [
            "/usr/local/lib/python3.11/dist-packages/xgboost/core.py:158: UserWarning: [09:30:36] WARNING: /workspace/src/learner.cc:740: \n",
            "Parameters: { \"use_label_encoder\" } are not used.\n",
            "\n",
            "  warnings.warn(smsg, UserWarning)\n"
          ]
        },
        {
          "output_type": "stream",
          "name": "stdout",
          "text": [
            "Fold 0 - Precision: 0.6721, Recall: 0.6721\n"
          ]
        },
        {
          "output_type": "stream",
          "name": "stderr",
          "text": [
            "/usr/local/lib/python3.11/dist-packages/xgboost/core.py:158: UserWarning: [09:30:45] WARNING: /workspace/src/learner.cc:740: \n",
            "Parameters: { \"use_label_encoder\" } are not used.\n",
            "\n",
            "  warnings.warn(smsg, UserWarning)\n"
          ]
        },
        {
          "output_type": "stream",
          "name": "stdout",
          "text": [
            "Fold 1 - Precision: 0.6615, Recall: 0.6615\n"
          ]
        },
        {
          "output_type": "stream",
          "name": "stderr",
          "text": [
            "/usr/local/lib/python3.11/dist-packages/xgboost/core.py:158: UserWarning: [09:30:54] WARNING: /workspace/src/learner.cc:740: \n",
            "Parameters: { \"use_label_encoder\" } are not used.\n",
            "\n",
            "  warnings.warn(smsg, UserWarning)\n"
          ]
        },
        {
          "output_type": "stream",
          "name": "stdout",
          "text": [
            "Fold 2 - Precision: 0.6667, Recall: 0.6667\n"
          ]
        },
        {
          "output_type": "stream",
          "name": "stderr",
          "text": [
            "/usr/local/lib/python3.11/dist-packages/xgboost/core.py:158: UserWarning: [09:31:03] WARNING: /workspace/src/learner.cc:740: \n",
            "Parameters: { \"use_label_encoder\" } are not used.\n",
            "\n",
            "  warnings.warn(smsg, UserWarning)\n"
          ]
        },
        {
          "output_type": "stream",
          "name": "stdout",
          "text": [
            "Fold 3 - Precision: 0.6572, Recall: 0.6572\n"
          ]
        },
        {
          "output_type": "stream",
          "name": "stderr",
          "text": [
            "/usr/local/lib/python3.11/dist-packages/xgboost/core.py:158: UserWarning: [09:31:13] WARNING: /workspace/src/learner.cc:740: \n",
            "Parameters: { \"use_label_encoder\" } are not used.\n",
            "\n",
            "  warnings.warn(smsg, UserWarning)\n"
          ]
        },
        {
          "output_type": "stream",
          "name": "stdout",
          "text": [
            "Fold 4 - Precision: 0.6632, Recall: 0.6632\n",
            "\n",
            "Average Precision for XGBoost: 0.6642\n",
            "Average Recall for XGBoost: 0.6642\n",
            "\n",
            "Classification Report (last fold):\n",
            "              precision    recall  f1-score   support\n",
            "\n",
            "           2       0.80      0.57      0.66       371\n",
            "           0       0.32      0.22      0.26       172\n",
            "           1       0.67      0.84      0.75       624\n",
            "\n",
            "    accuracy                           0.66      1167\n",
            "   macro avg       0.59      0.54      0.56      1167\n",
            "weighted avg       0.66      0.66      0.65      1167\n",
            "\n",
            "************************************************************\n"
          ]
        },
        {
          "output_type": "display_data",
          "data": {
            "text/plain": [
              "<Figure size 1000x600 with 1 Axes>"
            ],
            "image/png": "[encoded data removed]"
          },
          "metadata": {}
        }
      ]
    },
    {
      "cell_type": "markdown",
      "source": [
        "**Lexicon-Based (VADER, TextBlob)**"
      ],
      "metadata": {
        "id": "5rWGdtEPGl4s"
      }
    },
    {
      "cell_type": "code",
      "source": [
        "!pip install vaderSentiment"
      ],
      "metadata": {
        "colab": {
          "base_uri": "https://localhost:8080/"
        },
        "id": "gK53-IaCto6z",
        "outputId": "c4864e0d-a4ac-43a7-c0b3-a864d98a2054"
      },
      "execution_count": null,
      "outputs": [
        {
          "output_type": "stream",
          "name": "stdout",
          "text": [
            "Collecting vaderSentiment\n",
            "  Downloading vaderSentiment-3.3.2-py2.py3-none-any.whl.metadata (572 bytes)\n",
            "Requirement already satisfied: requests in /usr/local/lib/python3.11/dist-packages (from vaderSentiment) (2.32.3)\n",
            "Requirement already satisfied: charset-normalizer<4,>=2 in /usr/local/lib/python3.11/dist-packages (from requests->vaderSentiment) (3.4.1)\n",
            "Requirement already satisfied: idna<4,>=2.5 in /usr/local/lib/python3.11/dist-packages (from requests->vaderSentiment) (3.10)\n",
            "Requirement already satisfied: urllib3<3,>=1.21.1 in /usr/local/lib/python3.11/dist-packages (from requests->vaderSentiment) (2.4.0)\n",
            "Requirement already satisfied: certifi>=2017.4.17 in /usr/local/lib/python3.11/dist-packages (from requests->vaderSentiment) (2025.1.31)\n",
            "Downloading vaderSentiment-3.3.2-py2.py3-none-any.whl (125 kB)\n",
            "\u001b[?25l   \u001b[90m━━━━━━━━━━━━━━━━━━━━━━━━━━━━━━━━━━━━━━━━\u001b[0m \u001b[32m0.0/126.0 kB\u001b[0m \u001b[31m?\u001b[0m eta \u001b[36m-:--:--\u001b[0m\r\u001b[2K   \u001b[90m━━━━━━━━━━━━━━━━━━━━━━━━━━━━━━━━━━━━━━━━\u001b[0m \u001b[32m126.0/126.0 kB\u001b[0m \u001b[31m3.8 MB/s\u001b[0m eta \u001b[36m0:00:00\u001b[0m\n",
            "\u001b[?25hInstalling collected packages: vaderSentiment\n",
            "Successfully installed vaderSentiment-3.3.2\n"
          ]
        }
      ]
    },
    {
      "cell_type": "code",
      "source": [
        "from vaderSentiment.vaderSentiment import SentimentIntensityAnalyzer\n",
        "from textblob import TextBlob\n",
        "\n",
        "analyser=SentimentIntensityAnalyzer()\n",
        "\n",
        "def get_sentiment(text):\n",
        "    return analyser.polarity_scores(str(text))\n",
        "\n",
        "df[\"clean text\"].apply(get_sentiment)[1]"
      ],
      "metadata": {
        "colab": {
          "base_uri": "https://localhost:8080/"
        },
        "id": "HBh3d9t0Gsbz",
        "outputId": "89fc6523-b326-4da4-a02d-ae98b069220e"
      },
      "execution_count": null,
      "outputs": [
        {
          "output_type": "execute_result",
          "data": {
            "text/plain": [
              "{'neg': 0.0, 'neu': 1.0, 'pos': 0.0, 'compound': 0.0}"
            ]
          },
          "metadata": {},
          "execution_count": 29
        }
      ]
    },
    {
      "cell_type": "code",
      "source": [
        "#subjectivity and polarity from textblob\n",
        "\n",
        "def get_subjectivity(text):\n",
        "    return TextBlob(text).sentiment.subjectivity\n",
        "\n",
        "def get_polarity(text):\n",
        "    return TextBlob(text).sentiment.polarity"
      ],
      "metadata": {
        "id": "tOq6D703GzGy"
      },
      "execution_count": null,
      "outputs": []
    },
    {
      "cell_type": "code",
      "source": [
        "#creating compound,neg, pos and neu\n",
        "compound=[]\n",
        "neg=[]\n",
        "pos=[]\n",
        "neu=[]\n",
        "\n",
        "for i in range(0, len(df[\"clean text\"])):\n",
        "    SIA=get_sentiment(df[\"clean text\"].iloc[i])\n",
        "    compound.append(SIA[\"compound\"])\n",
        "    neg.append(SIA[\"neg\"])\n",
        "    pos.append(SIA[\"pos\"])\n",
        "    neu.append(SIA[\"neu\"])\n",
        "\n",
        "df[\"compound\"]=compound\n",
        "df[\"neg\"]=neg\n",
        "df[\"pos\"]=pos\n",
        "df[\"neu\"]=neu"
      ],
      "metadata": {
        "id": "CEuEqgEsHKl4"
      },
      "execution_count": null,
      "outputs": []
    },
    {
      "cell_type": "code",
      "source": [
        "df[\"subjectivity\"]=df[\"clean text\"].apply(get_subjectivity)\n",
        "df[\"polarity\"]=df[\"clean text\"].apply(get_polarity)"
      ],
      "metadata": {
        "id": "IUgezh5tHOxe"
      },
      "execution_count": null,
      "outputs": []
    },
    {
      "cell_type": "code",
      "source": [
        "df.head()"
      ],
      "metadata": {
        "colab": {
          "base_uri": "https://localhost:8080/",
          "height": 206
        },
        "id": "Rqvor7fEHSIH",
        "outputId": "9adec80e-8f94-4a05-d84b-6190aaee59c4"
      },
      "execution_count": null,
      "outputs": [
        {
          "output_type": "execute_result",
          "data": {
            "text/plain": [
              "                                            Sentence  Sentiment  \\\n",
              "0    CompaniesLSE adds ex-SEC head Schapiro to board          1   \n",
              "1  Device volume in the area decreased by 21 % to...          0   \n",
              "2  Union and company officials did not return cal...          1   \n",
              "3  The divestment of Raisio 's margarine business...          2   \n",
              "4  Kalnapilio-Tauro Grupe ( Kalnapilis-Tauras Gro...          2   \n",
              "\n",
              "                                          clean text  fold  compound  neg  \\\n",
              "0        companieslse add ex sec head schapiro board     0     0.000  0.0   \n",
              "1               device volume area decreased mn unit     0     0.000  0.0   \n",
              "2       union company official return call yesterday     0     0.000  0.0   \n",
              "3  divestment raisio margarine business may gave ...     0     0.000  0.0   \n",
              "4  kalnapilio tauro grupe kalnapilis tauras group...     0     0.296  0.0   \n",
              "\n",
              "     pos    neu  subjectivity  polarity  \n",
              "0  0.000  1.000           0.6      -0.1  \n",
              "1  0.000  1.000           0.7      -0.4  \n",
              "2  0.000  1.000           0.0       0.0  \n",
              "3  0.000  1.000           0.0       0.0  \n",
              "4  0.091  0.909           0.0       0.0  "
            ],
            "text/html": [
              "\n",
              "  <div id=\"df-69c6ab86-f69f-4e0a-b7a6-9a000180641f\" class=\"colab-df-container\">\n",
              "    <div>\n",
              "<style scoped>\n",
              "    .dataframe tbody tr th:only-of-type {\n",
              "        vertical-align: middle;\n",
              "    }\n",
              "\n",
              "    .dataframe tbody tr th {\n",
              "        vertical-align: top;\n",
              "    }\n",
              "\n",
              "    .dataframe thead th {\n",
              "        text-align: right;\n",
              "    }\n",
              "</style>\n",
              "<table border=\"1\" class=\"dataframe\">\n",
              "  <thead>\n",
              "    <tr style=\"text-align: right;\">\n",
              "      <th></th>\n",
              "      <th>Sentence</th>\n",
              "      <th>Sentiment</th>\n",
              "      <th>clean text</th>\n",
              "      <th>fold</th>\n",
              "      <th>compound</th>\n",
              "      <th>neg</th>\n",
              "      <th>pos</th>\n",
              "      <th>neu</th>\n",
              "      <th>subjectivity</th>\n",
              "      <th>polarity</th>\n",
              "    </tr>\n",
              "  </thead>\n",
              "  <tbody>\n",
              "    <tr>\n",
              "      <th>0</th>\n",
              "      <td>CompaniesLSE adds ex-SEC head Schapiro to board</td>\n",
              "      <td>1</td>\n",
              "      <td>companieslse add ex sec head schapiro board</td>\n",
              "      <td>0</td>\n",
              "      <td>0.000</td>\n",
              "      <td>0.0</td>\n",
              "      <td>0.000</td>\n",
              "      <td>1.000</td>\n",
              "      <td>0.6</td>\n",
              "      <td>-0.1</td>\n",
              "    </tr>\n",
              "    <tr>\n",
              "      <th>1</th>\n",
              "      <td>Device volume in the area decreased by 21 % to...</td>\n",
              "      <td>0</td>\n",
              "      <td>device volume area decreased mn unit</td>\n",
              "      <td>0</td>\n",
              "      <td>0.000</td>\n",
              "      <td>0.0</td>\n",
              "      <td>0.000</td>\n",
              "      <td>1.000</td>\n",
              "      <td>0.7</td>\n",
              "      <td>-0.4</td>\n",
              "    </tr>\n",
              "    <tr>\n",
              "      <th>2</th>\n",
              "      <td>Union and company officials did not return cal...</td>\n",
              "      <td>1</td>\n",
              "      <td>union company official return call yesterday</td>\n",
              "      <td>0</td>\n",
              "      <td>0.000</td>\n",
              "      <td>0.0</td>\n",
              "      <td>0.000</td>\n",
              "      <td>1.000</td>\n",
              "      <td>0.0</td>\n",
              "      <td>0.0</td>\n",
              "    </tr>\n",
              "    <tr>\n",
              "      <th>3</th>\n",
              "      <td>The divestment of Raisio 's margarine business...</td>\n",
              "      <td>2</td>\n",
              "      <td>divestment raisio margarine business may gave ...</td>\n",
              "      <td>0</td>\n",
              "      <td>0.000</td>\n",
              "      <td>0.0</td>\n",
              "      <td>0.000</td>\n",
              "      <td>1.000</td>\n",
              "      <td>0.0</td>\n",
              "      <td>0.0</td>\n",
              "    </tr>\n",
              "    <tr>\n",
              "      <th>4</th>\n",
              "      <td>Kalnapilio-Tauro Grupe ( Kalnapilis-Tauras Gro...</td>\n",
              "      <td>2</td>\n",
              "      <td>kalnapilio tauro grupe kalnapilis tauras group...</td>\n",
              "      <td>0</td>\n",
              "      <td>0.296</td>\n",
              "      <td>0.0</td>\n",
              "      <td>0.091</td>\n",
              "      <td>0.909</td>\n",
              "      <td>0.0</td>\n",
              "      <td>0.0</td>\n",
              "    </tr>\n",
              "  </tbody>\n",
              "</table>\n",
              "</div>\n",
              "    <div class=\"colab-df-buttons\">\n",
              "\n",
              "  <div class=\"colab-df-container\">\n",
              "    <button class=\"colab-df-convert\" onclick=\"convertToInteractive('df-69c6ab86-f69f-4e0a-b7a6-9a000180641f')\"\n",
              "            title=\"Convert this dataframe to an interactive table.\"\n",
              "            style=\"display:none;\">\n",
              "\n",
              "  <svg xmlns=\"http://www.w3.org/2000/svg\" height=\"24px\" viewBox=\"0 -960 960 960\">\n",
              "    <path d=\"M120-120v-720h720v720H120Zm60-500h600v-160H180v160Zm220 220h160v-160H400v160Zm0 220h160v-160H400v160ZM180-400h160v-160H180v160Zm440 0h160v-160H620v160ZM180-180h160v-160H180v160Zm440 0h160v-160H620v160Z\"/>\n",
              "  </svg>\n",
              "    </button>\n",
              "\n",
              "  <style>\n",
              "    .colab-df-container {\n",
              "      display:flex;\n",
              "      gap: 12px;\n",
              "    }\n",
              "\n",
              "    .colab-df-convert {\n",
              "      background-color: #E8F0FE;\n",
              "      border: none;\n",
              "      border-radius: 50%;\n",
              "      cursor: pointer;\n",
              "      display: none;\n",
              "      fill: #1967D2;\n",
              "      height: 32px;\n",
              "      padding: 0 0 0 0;\n",
              "      width: 32px;\n",
              "    }\n",
              "\n",
              "    .colab-df-convert:hover {\n",
              "      background-color: #E2EBFA;\n",
              "      box-shadow: 0px 1px 2px rgba(60, 64, 67, 0.3), 0px 1px 3px 1px rgba(60, 64, 67, 0.15);\n",
              "      fill: #174EA6;\n",
              "    }\n",
              "\n",
              "    .colab-df-buttons div {\n",
              "      margin-bottom: 4px;\n",
              "    }\n",
              "\n",
              "    [theme=dark] .colab-df-convert {\n",
              "      background-color: #3B4455;\n",
              "      fill: #D2E3FC;\n",
              "    }\n",
              "\n",
              "    [theme=dark] .colab-df-convert:hover {\n",
              "      background-color: #434B5C;\n",
              "      box-shadow: 0px 1px 3px 1px rgba(0, 0, 0, 0.15);\n",
              "      filter: drop-shadow(0px 1px 2px rgba(0, 0, 0, 0.3));\n",
              "      fill: #FFFFFF;\n",
              "    }\n",
              "  </style>\n",
              "\n",
              "    <script>\n",
              "      const buttonEl =\n",
              "        document.querySelector('#df-69c6ab86-f69f-4e0a-b7a6-9a000180641f button.colab-df-convert');\n",
              "      buttonEl.style.display =\n",
              "        google.colab.kernel.accessAllowed ? 'block' : 'none';\n",
              "\n",
              "      async function convertToInteractive(key) {\n",
              "        const element = document.querySelector('#df-69c6ab86-f69f-4e0a-b7a6-9a000180641f');\n",
              "        const dataTable =\n",
              "          await google.colab.kernel.invokeFunction('convertToInteractive',\n",
              "                                                    [key], {});\n",
              "        if (!dataTable) return;\n",
              "\n",
              "        const docLinkHtml = 'Like what you see? Visit the ' +\n",
              "          '<a target=\"_blank\" href=https://colab.research.google.com/notebooks/data_table.ipynb>data table notebook</a>'\n",
              "          + ' to learn more about interactive tables.';\n",
              "        element.innerHTML = '';\n",
              "        dataTable['output_type'] = 'display_data';\n",
              "        await google.colab.output.renderOutput(dataTable, element);\n",
              "        const docLink = document.createElement('div');\n",
              "        docLink.innerHTML = docLinkHtml;\n",
              "        element.appendChild(docLink);\n",
              "      }\n",
              "    </script>\n",
              "  </div>\n",
              "\n",
              "\n",
              "    <div id=\"df-b609d371-56b1-4d0a-bc46-43a804a1cc47\">\n",
              "      <button class=\"colab-df-quickchart\" onclick=\"quickchart('df-b609d371-56b1-4d0a-bc46-43a804a1cc47')\"\n",
              "                title=\"Suggest charts\"\n",
              "                style=\"display:none;\">\n",
              "\n",
              "<svg xmlns=\"http://www.w3.org/2000/svg\" height=\"24px\"viewBox=\"0 0 24 24\"\n",
              "     width=\"24px\">\n",
              "    <g>\n",
              "        <path d=\"M19 3H5c-1.1 0-2 .9-2 2v14c0 1.1.9 2 2 2h14c1.1 0 2-.9 2-2V5c0-1.1-.9-2-2-2zM9 17H7v-7h2v7zm4 0h-2V7h2v10zm4 0h-2v-4h2v4z\"/>\n",
              "    </g>\n",
              "</svg>\n",
              "      </button>\n",
              "\n",
              "<style>\n",
              "  .colab-df-quickchart {\n",
              "      --bg-color: #E8F0FE;\n",
              "      --fill-color: #1967D2;\n",
              "      --hover-bg-color: #E2EBFA;\n",
              "      --hover-fill-color: #174EA6;\n",
              "      --disabled-fill-color: #AAA;\n",
              "      --disabled-bg-color: #DDD;\n",
              "  }\n",
              "\n",
              "  [theme=dark] .colab-df-quickchart {\n",
              "      --bg-color: #3B4455;\n",
              "      --fill-color: #D2E3FC;\n",
              "      --hover-bg-color: #434B5C;\n",
              "      --hover-fill-color: #FFFFFF;\n",
              "      --disabled-bg-color: #3B4455;\n",
              "      --disabled-fill-color: #666;\n",
              "  }\n",
              "\n",
              "  .colab-df-quickchart {\n",
              "    background-color: var(--bg-color);\n",
              "    border: none;\n",
              "    border-radius: 50%;\n",
              "    cursor: pointer;\n",
              "    display: none;\n",
              "    fill: var(--fill-color);\n",
              "    height: 32px;\n",
              "    padding: 0;\n",
              "    width: 32px;\n",
              "  }\n",
              "\n",
              "  .colab-df-quickchart:hover {\n",
              "    background-color: var(--hover-bg-color);\n",
              "    box-shadow: 0 1px 2px rgba(60, 64, 67, 0.3), 0 1px 3px 1px rgba(60, 64, 67, 0.15);\n",
              "    fill: var(--button-hover-fill-color);\n",
              "  }\n",
              "\n",
              "  .colab-df-quickchart-complete:disabled,\n",
              "  .colab-df-quickchart-complete:disabled:hover {\n",
              "    background-color: var(--disabled-bg-color);\n",
              "    fill: var(--disabled-fill-color);\n",
              "    box-shadow: none;\n",
              "  }\n",
              "\n",
              "  .colab-df-spinner {\n",
              "    border: 2px solid var(--fill-color);\n",
              "    border-color: transparent;\n",
              "    border-bottom-color: var(--fill-color);\n",
              "    animation:\n",
              "      spin 1s steps(1) infinite;\n",
              "  }\n",
              "\n",
              "  @keyframes spin {\n",
              "    0% {\n",
              "      border-color: transparent;\n",
              "      border-bottom-color: var(--fill-color);\n",
              "      border-left-color: var(--fill-color);\n",
              "    }\n",
              "    20% {\n",
              "      border-color: transparent;\n",
              "      border-left-color: var(--fill-color);\n",
              "      border-top-color: var(--fill-color);\n",
              "    }\n",
              "    30% {\n",
              "      border-color: transparent;\n",
              "      border-left-color: var(--fill-color);\n",
              "      border-top-color: var(--fill-color);\n",
              "      border-right-color: var(--fill-color);\n",
              "    }\n",
              "    40% {\n",
              "      border-color: transparent;\n",
              "      border-right-color: var(--fill-color);\n",
              "      border-top-color: var(--fill-color);\n",
              "    }\n",
              "    60% {\n",
              "      border-color: transparent;\n",
              "      border-right-color: var(--fill-color);\n",
              "    }\n",
              "    80% {\n",
              "      border-color: transparent;\n",
              "      border-right-color: var(--fill-color);\n",
              "      border-bottom-color: var(--fill-color);\n",
              "    }\n",
              "    90% {\n",
              "      border-color: transparent;\n",
              "      border-bottom-color: var(--fill-color);\n",
              "    }\n",
              "  }\n",
              "</style>\n",
              "\n",
              "      <script>\n",
              "        async function quickchart(key) {\n",
              "          const quickchartButtonEl =\n",
              "            document.querySelector('#' + key + ' button');\n",
              "          quickchartButtonEl.disabled = true;  // To prevent multiple clicks.\n",
              "          quickchartButtonEl.classList.add('colab-df-spinner');\n",
              "          try {\n",
              "            const charts = await google.colab.kernel.invokeFunction(\n",
              "                'suggestCharts', [key], {});\n",
              "          } catch (error) {\n",
              "            console.error('Error during call to suggestCharts:', error);\n",
              "          }\n",
              "          quickchartButtonEl.classList.remove('colab-df-spinner');\n",
              "          quickchartButtonEl.classList.add('colab-df-quickchart-complete');\n",
              "        }\n",
              "        (() => {\n",
              "          let quickchartButtonEl =\n",
              "            document.querySelector('#df-b609d371-56b1-4d0a-bc46-43a804a1cc47 button');\n",
              "          quickchartButtonEl.style.display =\n",
              "            google.colab.kernel.accessAllowed ? 'block' : 'none';\n",
              "        })();\n",
              "      </script>\n",
              "    </div>\n",
              "\n",
              "    </div>\n",
              "  </div>\n"
            ],
            "application/vnd.google.colaboratory.intrinsic+json": {
              "type": "dataframe",
              "variable_name": "df",
              "summary": "{\n  \"name\": \"df\",\n  \"rows\": 5836,\n  \"fields\": [\n    {\n      \"column\": \"Sentence\",\n      \"properties\": {\n        \"dtype\": \"string\",\n        \"num_unique_values\": 5322,\n        \"samples\": [\n          \"Amanda Capital has investments in 22 private equity funds and in over 200 unquoted companies mainly in Europe .\",\n          \"The area will also include some central buildings , and Honkarakenne has started negotiations on their delivery .\",\n          \"Finnish silicon wafers manufacturer Okmetic Oyj said it swung to a net profit of 4.9 mln euro $ 6.3 mln in the first nine months of 2006 from a net loss of 1.8 mln euro $ 2.3 mln a year earlier .\"\n        ],\n        \"semantic_type\": \"\",\n        \"description\": \"\"\n      }\n    },\n    {\n      \"column\": \"Sentiment\",\n      \"properties\": {\n        \"dtype\": \"number\",\n        \"std\": 0,\n        \"min\": 0,\n        \"max\": 2,\n        \"num_unique_values\": 3,\n        \"samples\": [\n          1,\n          0,\n          2\n        ],\n        \"semantic_type\": \"\",\n        \"description\": \"\"\n      }\n    },\n    {\n      \"column\": \"clean text\",\n      \"properties\": {\n        \"dtype\": \"string\",\n        \"num_unique_values\": 5248,\n        \"samples\": [\n          \"company offer payroll service including payroll processing payroll tax administration employee pay service including direct deposit check signing readychex\",\n          \"mr k r vasantha appointed managing director incap contract manufacturing service pvt ltd\",\n          \"tspt long\"\n        ],\n        \"semantic_type\": \"\",\n        \"description\": \"\"\n      }\n    },\n    {\n      \"column\": \"fold\",\n      \"properties\": {\n        \"dtype\": \"number\",\n        \"std\": 1,\n        \"min\": 0,\n        \"max\": 4,\n        \"num_unique_values\": 5,\n        \"samples\": [\n          1,\n          4,\n          2\n        ],\n        \"semantic_type\": \"\",\n        \"description\": \"\"\n      }\n    },\n    {\n      \"column\": \"compound\",\n      \"properties\": {\n        \"dtype\": \"number\",\n        \"std\": 0.3215083393632513,\n        \"min\": -0.8658,\n        \"max\": 0.946,\n        \"num_unique_values\": 214,\n        \"samples\": [\n          -0.3612,\n          0.7328,\n          0.7783\n        ],\n        \"semantic_type\": \"\",\n        \"description\": \"\"\n      }\n    },\n    {\n      \"column\": \"neg\",\n      \"properties\": {\n        \"dtype\": \"number\",\n        \"std\": 0.10110244962277996,\n        \"min\": 0.0,\n        \"max\": 1.0,\n        \"num_unique_values\": 305,\n        \"samples\": [\n          0.444,\n          0.439,\n          0.267\n        ],\n        \"semantic_type\": \"\",\n        \"description\": \"\"\n      }\n    },\n    {\n      \"column\": \"pos\",\n      \"properties\": {\n        \"dtype\": \"number\",\n        \"std\": 0.1609316856529008,\n        \"min\": 0.0,\n        \"max\": 1.0,\n        \"num_unique_values\": 484,\n        \"samples\": [\n          0.387,\n          0.075,\n          0.223\n        ],\n        \"semantic_type\": \"\",\n        \"description\": \"\"\n      }\n    },\n    {\n      \"column\": \"neu\",\n      \"properties\": {\n        \"dtype\": \"number\",\n        \"std\": 0.17662680523509836,\n        \"min\": 0.0,\n        \"max\": 1.0,\n        \"num_unique_values\": 505,\n        \"samples\": [\n          0.685,\n          0.638,\n          0.393\n        ],\n        \"semantic_type\": \"\",\n        \"description\": \"\"\n      }\n    },\n    {\n      \"column\": \"subjectivity\",\n      \"properties\": {\n        \"dtype\": \"number\",\n        \"std\": 0.2725570334819345,\n        \"min\": 0.0,\n        \"max\": 1.0,\n        \"num_unique_values\": 488,\n        \"samples\": [\n          0.05,\n          0.35416666666666663,\n          0.4357142857142857\n        ],\n        \"semantic_type\": \"\",\n        \"description\": \"\"\n      }\n    },\n    {\n      \"column\": \"polarity\",\n      \"properties\": {\n        \"dtype\": \"number\",\n        \"std\": 0.18384953879418484,\n        \"min\": -1.0,\n        \"max\": 1.0,\n        \"num_unique_values\": 495,\n        \"samples\": [\n          0.03888888888888888,\n          -0.0125,\n          0.08750000000000001\n        ],\n        \"semantic_type\": \"\",\n        \"description\": \"\"\n      }\n    }\n  ]\n}"
            }
          },
          "metadata": {},
          "execution_count": 33
        }
      ]
    },
    {
      "cell_type": "code",
      "source": [
        "#linear Discrminant analysis\n",
        "\n",
        "x=df[[\"compound\",\"neg\",\"pos\",\"neu\",\"subjectivity\",\"polarity\"]]\n",
        "y=df[\"Sentiment\"]\n",
        "\n",
        "smote=SMOTE()\n",
        "x,y=smote.fit_resample(x,y)\n",
        "\n",
        "x_train,x_test,y_train,y_test=train_test_split(x,y,test_size=0.2,random_state=42)\n",
        "\n",
        "lda=LinearDiscriminantAnalysis()\n",
        "model=lda.fit(x_train,y_train)\n",
        "y_pred=model.predict(x_test)\n",
        "y_pred_train=model.predict(x_train)\n",
        "print(\"train accuracy: \",accuracy_score(y_train,y_pred_train))\n",
        "print(\"test_accuracy: \",accuracy_score(y_test,y_pred))\n",
        "print(classification_report(y_test,y_pred))"
      ],
      "metadata": {
        "colab": {
          "base_uri": "https://localhost:8080/"
        },
        "id": "qi-tYN0WHUZo",
        "outputId": "219df43c-0577-485d-98c8-7eff20363ce5"
      },
      "execution_count": null,
      "outputs": [
        {
          "output_type": "stream",
          "name": "stdout",
          "text": [
            "train accuracy:  0.5066026410564226\n",
            "test_accuracy:  0.5285333333333333\n",
            "              precision    recall  f1-score   support\n",
            "\n",
            "           0       0.65      0.45      0.53       615\n",
            "           1       0.48      0.56      0.51       641\n",
            "           2       0.51      0.58      0.54       619\n",
            "\n",
            "    accuracy                           0.53      1875\n",
            "   macro avg       0.55      0.53      0.53      1875\n",
            "weighted avg       0.54      0.53      0.53      1875\n",
            "\n"
          ]
        }
      ]
    },
    {
      "cell_type": "code",
      "source": [
        "models={\"LogisticRegression\":LogisticRegression(),\n",
        "        \"LDA\":LinearDiscriminantAnalysis(),\n",
        "        \"SVC\":SVC(),\n",
        "        \"KNN\":KNeighborsClassifier(),\n",
        "        \"xgboost\":XGBClassifier()}\n"
      ],
      "metadata": {
        "id": "CYz4xqQBHY8Q"
      },
      "execution_count": null,
      "outputs": []
    },
    {
      "cell_type": "code",
      "source": [
        "for name, model in models.items():\n",
        "    if name==\"LDA\":\n",
        "        model.fit(x_train,y_train)\n",
        "        y_pred_train=model.predict(x_train)\n",
        "        y_pred=model.predict(x_test)\n",
        "\n",
        "    else:\n",
        "        model.fit(x_train,y_train)\n",
        "        y_pred_train=model.predict(x_train)\n",
        "        y_pred=model.predict(x_test)\n",
        "\n",
        "    print(f\"{name}\")\n",
        "    print(\"train accuracy: \",accuracy_score(y_train,y_pred_train))\n",
        "    print(\"test accuracy: \",accuracy_score(y_test,y_pred))\n",
        "    print(classification_report(y_test,y_pred))\n",
        "    print(confusion_matrix(y_test,y_pred))\n",
        "    print(\"*\"*50)"
      ],
      "metadata": {
        "colab": {
          "base_uri": "https://localhost:8080/"
        },
        "id": "QJZ3PFTGHc5i",
        "outputId": "7c1eebca-864b-44ab-8cc4-9a51ef7f755e"
      },
      "execution_count": null,
      "outputs": [
        {
          "output_type": "stream",
          "name": "stdout",
          "text": [
            "LogisticRegression\n",
            "train accuracy:  0.5071361878084567\n",
            "test accuracy:  0.5338666666666667\n",
            "              precision    recall  f1-score   support\n",
            "\n",
            "           0       0.65      0.46      0.54       615\n",
            "           1       0.48      0.55      0.51       641\n",
            "           2       0.52      0.59      0.55       619\n",
            "\n",
            "    accuracy                           0.53      1875\n",
            "   macro avg       0.55      0.53      0.53      1875\n",
            "weighted avg       0.55      0.53      0.53      1875\n",
            "\n",
            "[[283 200 132]\n",
            " [ 81 351 209]\n",
            " [ 74 178 367]]\n",
            "**************************************************\n",
            "LDA\n",
            "train accuracy:  0.5066026410564226\n",
            "test accuracy:  0.5285333333333333\n",
            "              precision    recall  f1-score   support\n",
            "\n",
            "           0       0.65      0.45      0.53       615\n",
            "           1       0.48      0.56      0.51       641\n",
            "           2       0.51      0.58      0.54       619\n",
            "\n",
            "    accuracy                           0.53      1875\n",
            "   macro avg       0.55      0.53      0.53      1875\n",
            "weighted avg       0.54      0.53      0.53      1875\n",
            "\n",
            "[[275 205 135]\n",
            " [ 77 357 207]\n",
            " [ 71 189 359]]\n",
            "**************************************************\n",
            "SVC\n",
            "train accuracy:  0.5167400293450713\n",
            "test accuracy:  0.5354666666666666\n",
            "              precision    recall  f1-score   support\n",
            "\n",
            "           0       0.63      0.52      0.57       615\n",
            "           1       0.49      0.50      0.49       641\n",
            "           2       0.51      0.60      0.55       619\n",
            "\n",
            "    accuracy                           0.54      1875\n",
            "   macro avg       0.54      0.54      0.54      1875\n",
            "weighted avg       0.54      0.54      0.54      1875\n",
            "\n",
            "[[317 171 127]\n",
            " [ 97 318 226]\n",
            " [ 90 160 369]]\n",
            "**************************************************\n",
            "KNN\n",
            "train accuracy:  0.6627984527144191\n",
            "test accuracy:  0.5984\n",
            "              precision    recall  f1-score   support\n",
            "\n",
            "           0       0.63      0.74      0.68       615\n",
            "           1       0.52      0.54      0.53       641\n",
            "           2       0.67      0.51      0.58       619\n",
            "\n",
            "    accuracy                           0.60      1875\n",
            "   macro avg       0.60      0.60      0.60      1875\n",
            "weighted avg       0.60      0.60      0.60      1875\n",
            "\n",
            "[[458 133  24]\n",
            " [162 348 131]\n",
            " [109 194 316]]\n",
            "**************************************************\n",
            "xgboost\n",
            "train accuracy:  0.758970254768574\n",
            "test accuracy:  0.6005333333333334\n",
            "              precision    recall  f1-score   support\n",
            "\n",
            "           0       0.66      0.65      0.65       615\n",
            "           1       0.52      0.61      0.56       641\n",
            "           2       0.65      0.54      0.59       619\n",
            "\n",
            "    accuracy                           0.60      1875\n",
            "   macro avg       0.61      0.60      0.60      1875\n",
            "weighted avg       0.61      0.60      0.60      1875\n",
            "\n",
            "[[397 173  45]\n",
            " [112 392 137]\n",
            " [ 92 190 337]]\n",
            "**************************************************\n"
          ]
        }
      ]
    },
    {
      "cell_type": "markdown",
      "source": [
        "\"We took numbers from VADER and TextBlob that describe the feeling of each text (like how positive or negative it is). Then, we used these numbers to train different machine learning models to predict the sentiment.\n",
        "\n",
        "The models were about 50–60% correct, which means these simple sentiment scores give some useful information, but not enough to make very strong predictions.\n",
        "\n",
        "To do better in the future, we would need more powerful tools that understand financial language better, like a model called FinBERT, or use deeper machine learning methods that learn from full sentences.\"\n",
        "\n",
        "In this project, I performed sentiment classification on financial news headlines using a complete machine learning pipeline. I applied text preprocessing, feature engineering (TF-IDF, CountVectorizer, VADER, TextBlob), handled class imbalance with SMOTE, and trained multiple models including Logistic Regression, Naive Bayes, SVM, KNN, XGBoost, and LDA. I compared the performance of different vectorization techniques and sentiment-based features through cross-validation and visualization.\n"
      ],
      "metadata": {
        "id": "HAjPwHNIHnDS"
      }
    },
    {
      "cell_type": "markdown",
      "source": [
        "**LSTM**"
      ],
      "metadata": {
        "id": "eKY78x913_ct"
      }
    },
    {
      "cell_type": "code",
      "source": [
        "import tensorflow as tf\n",
        "from tensorflow.keras.models import Sequential\n",
        "from tensorflow.keras.layers import Embedding,LSTM,Dense\n",
        "from tensorflow.keras.preprocessing.text import Tokenizer\n",
        "from tensorflow.keras.preprocessing.sequence import pad_sequences\n",
        "from tensorflow.keras.layers import Dropout\n",
        "from tensorflow.keras.callbacks import EarlyStopping"
      ],
      "metadata": {
        "id": "3w-jLQTS0t4h"
      },
      "execution_count": null,
      "outputs": []
    },
    {
      "cell_type": "code",
      "source": [
        "max_len = max([len(x.split()) for x in df[\"clean text\"]])\n",
        "max_len"
      ],
      "metadata": {
        "colab": {
          "base_uri": "https://localhost:8080/"
        },
        "id": "Z3nZzY56cdn5",
        "outputId": "39794520-fb7f-4183-b03b-37a0747061bc"
      },
      "execution_count": null,
      "outputs": [
        {
          "output_type": "execute_result",
          "data": {
            "text/plain": [
              "41"
            ]
          },
          "metadata": {},
          "execution_count": 23
        }
      ]
    },
    {
      "cell_type": "code",
      "source": [
        "tokenizer = Tokenizer()\n",
        "tokenizer.fit_on_texts(df[\"clean text\"])\n",
        "sequences = tokenizer.texts_to_sequences(df[\"clean text\"])\n",
        "paded_sequences=pad_sequences(sequences,maxlen=max_len)"
      ],
      "metadata": {
        "id": "cyM31mp26Dmx"
      },
      "execution_count": null,
      "outputs": []
    },
    {
      "cell_type": "code",
      "source": [
        "max_words=len(tokenizer.word_index)+1\n",
        "print(max_words)"
      ],
      "metadata": {
        "colab": {
          "base_uri": "https://localhost:8080/"
        },
        "id": "wjmTbQ62MeRS",
        "outputId": "cb880506-f8fc-42e2-8e45-8c470e227bb5"
      },
      "execution_count": null,
      "outputs": [
        {
          "output_type": "stream",
          "name": "stdout",
          "text": [
            "9322\n"
          ]
        }
      ]
    },
    {
      "cell_type": "code",
      "source": [
        "x=paded_sequences\n",
        "y=df[\"Sentiment\"]"
      ],
      "metadata": {
        "id": "qVJroXc8cB05"
      },
      "execution_count": null,
      "outputs": []
    },
    {
      "cell_type": "code",
      "source": [
        "print(x.shape)\n",
        "print(y.shape)"
      ],
      "metadata": {
        "colab": {
          "base_uri": "https://localhost:8080/"
        },
        "id": "MvGR_BKLcCeT",
        "outputId": "92cafaef-1d49-4c68-a0b5-a61279ce92cc"
      },
      "execution_count": null,
      "outputs": [
        {
          "output_type": "stream",
          "name": "stdout",
          "text": [
            "(5836, 41)\n",
            "(5836,)\n"
          ]
        }
      ]
    },
    {
      "cell_type": "code",
      "source": [
        "#one-hot encoding\n",
        "from tensorflow.keras.utils import to_categorical\n",
        "\n",
        "num_class=len(np.unique(y))\n",
        "\n",
        "y=to_categorical(y,num_classes=num_class)\n",
        "\n",
        "print(y.shape)"
      ],
      "metadata": {
        "colab": {
          "base_uri": "https://localhost:8080/"
        },
        "id": "AkeroJpbhCSP",
        "outputId": "67e4ca94-a47d-4d34-8363-cd095ba22ce5"
      },
      "execution_count": null,
      "outputs": [
        {
          "output_type": "stream",
          "name": "stdout",
          "text": [
            "(5836, 3)\n"
          ]
        }
      ]
    },
    {
      "cell_type": "code",
      "source": [
        "x_train,x_test,y_train,y_test=train_test_split(paded_sequences,y,test_size=0.2,random_state=42)"
      ],
      "metadata": {
        "id": "fT2CGzOq6c5K"
      },
      "execution_count": null,
      "outputs": []
    },
    {
      "cell_type": "markdown",
      "source": [
        "build LSTM model"
      ],
      "metadata": {
        "id": "VIDcJGPa7IKW"
      }
    },
    {
      "cell_type": "code",
      "source": [
        "model = Sequential()\n",
        "model.add(Embedding(input_dim=len(tokenizer.word_index)+1, output_dim=100, input_length=max_len))\n",
        "model.add(LSTM(128, return_sequences=True))\n",
        "model.add(Dropout(0.5))\n",
        "model.add(LSTM(64))\n",
        "model.add(Dropout(0.5))\n",
        "model.add(Dense(num_class, activation='softmax'))"
      ],
      "metadata": {
        "id": "VqY1WJI98avp",
        "colab": {
          "base_uri": "https://localhost:8080/"
        },
        "outputId": "2e125645-a27b-4387-ddb4-aa579ec7180c"
      },
      "execution_count": null,
      "outputs": [
        {
          "output_type": "stream",
          "name": "stderr",
          "text": [
            "/usr/local/lib/python3.11/dist-packages/keras/src/layers/core/embedding.py:90: UserWarning: Argument `input_length` is deprecated. Just remove it.\n",
            "  warnings.warn(\n"
          ]
        }
      ]
    },
    {
      "cell_type": "code",
      "source": [
        "x_train=pad_sequences(x_train,maxlen=max_len)\n",
        "x_test=pad_sequences(x_test,maxlen=max_len)\n"
      ],
      "metadata": {
        "id": "zmJvwUPVjMTG"
      },
      "execution_count": null,
      "outputs": []
    },
    {
      "cell_type": "code",
      "source": [
        "print(x_train.shape)\n",
        "print(x_test.shape)\n",
        "print(y_train.shape)\n",
        "print(y_test.shape)"
      ],
      "metadata": {
        "colab": {
          "base_uri": "https://localhost:8080/"
        },
        "id": "O56xCLwOlAr1",
        "outputId": "3070a82e-db23-4d9c-c80d-2ebb0d37bf95"
      },
      "execution_count": null,
      "outputs": [
        {
          "output_type": "stream",
          "name": "stdout",
          "text": [
            "(4668, 41)\n",
            "(1168, 41)\n",
            "(4668, 3)\n",
            "(1168, 3)\n"
          ]
        }
      ]
    },
    {
      "cell_type": "code",
      "source": [
        "model.compile(loss=\"binary_crossentropy\",optimizer=\"adam\",metrics=[\"accuracy\"])"
      ],
      "metadata": {
        "id": "Aa0c_t8D8scb"
      },
      "execution_count": null,
      "outputs": []
    },
    {
      "cell_type": "code",
      "source": [
        "early_stop = EarlyStopping(monitor='val_loss', patience=2, restore_best_weights=True)\n",
        "model.fit(x_train, y_train, validation_data=(x_test, y_test), epochs=20, batch_size=64, callbacks=[early_stop])\n"
      ],
      "metadata": {
        "colab": {
          "base_uri": "https://localhost:8080/"
        },
        "id": "PZ_BWVIK9OCe",
        "outputId": "687c0050-51fc-40b1-ca2c-50b753349a10"
      },
      "execution_count": null,
      "outputs": [
        {
          "output_type": "stream",
          "name": "stdout",
          "text": [
            "Epoch 1/20\n",
            "\u001b[1m73/73\u001b[0m \u001b[32m━━━━━━━━━━━━━━━━━━━━\u001b[0m\u001b[37m\u001b[0m \u001b[1m18s\u001b[0m 186ms/step - accuracy: 0.5029 - loss: 0.6192 - val_accuracy: 0.5702 - val_loss: 0.5601\n",
            "Epoch 2/20\n",
            "\u001b[1m73/73\u001b[0m \u001b[32m━━━━━━━━━━━━━━━━━━━━\u001b[0m\u001b[37m\u001b[0m \u001b[1m20s\u001b[0m 178ms/step - accuracy: 0.5764 - loss: 0.5540 - val_accuracy: 0.6832 - val_loss: 0.4716\n",
            "Epoch 3/20\n",
            "\u001b[1m73/73\u001b[0m \u001b[32m━━━━━━━━━━━━━━━━━━━━\u001b[0m\u001b[37m\u001b[0m \u001b[1m19s\u001b[0m 157ms/step - accuracy: 0.7571 - loss: 0.3739 - val_accuracy: 0.6858 - val_loss: 0.4529\n",
            "Epoch 4/20\n",
            "\u001b[1m73/73\u001b[0m \u001b[32m━━━━━━━━━━━━━━━━━━━━\u001b[0m\u001b[37m\u001b[0m \u001b[1m23s\u001b[0m 197ms/step - accuracy: 0.8430 - loss: 0.2424 - val_accuracy: 0.6755 - val_loss: 0.5124\n",
            "Epoch 5/20\n",
            "\u001b[1m73/73\u001b[0m \u001b[32m━━━━━━━━━━━━━━━━━━━━\u001b[0m\u001b[37m\u001b[0m \u001b[1m19s\u001b[0m 178ms/step - accuracy: 0.8864 - loss: 0.1695 - val_accuracy: 0.6832 - val_loss: 0.6009\n"
          ]
        },
        {
          "output_type": "execute_result",
          "data": {
            "text/plain": [
              "<keras.src.callbacks.history.History at 0x7d673754db10>"
            ]
          },
          "metadata": {},
          "execution_count": 34
        }
      ]
    },
    {
      "cell_type": "code",
      "source": [
        "\n",
        "# Now run fit\n",
        "model.fit(x_train, y_train, epochs=5, batch_size=64, validation_data=(x_test, y_test))"
      ],
      "metadata": {
        "colab": {
          "base_uri": "https://localhost:8080/"
        },
        "id": "OQVCe8Jy-t65",
        "outputId": "aa651bea-b122-423b-8a6f-c48eddeea30f"
      },
      "execution_count": null,
      "outputs": [
        {
          "output_type": "stream",
          "name": "stdout",
          "text": [
            "Epoch 1/5\n",
            "\u001b[1m73/73\u001b[0m \u001b[32m━━━━━━━━━━━━━━━━━━━━\u001b[0m\u001b[37m\u001b[0m \u001b[1m13s\u001b[0m 183ms/step - accuracy: 0.8451 - loss: 0.2333 - val_accuracy: 0.6721 - val_loss: 0.5700\n",
            "Epoch 2/5\n",
            "\u001b[1m73/73\u001b[0m \u001b[32m━━━━━━━━━━━━━━━━━━━━\u001b[0m\u001b[37m\u001b[0m \u001b[1m20s\u001b[0m 177ms/step - accuracy: 0.8667 - loss: 0.1827 - val_accuracy: 0.6515 - val_loss: 0.5901\n",
            "Epoch 3/5\n",
            "\u001b[1m73/73\u001b[0m \u001b[32m━━━━━━━━━━━━━━━━━━━━\u001b[0m\u001b[37m\u001b[0m \u001b[1m13s\u001b[0m 177ms/step - accuracy: 0.8908 - loss: 0.1532 - val_accuracy: 0.6541 - val_loss: 0.6703\n",
            "Epoch 4/5\n",
            "\u001b[1m73/73\u001b[0m \u001b[32m━━━━━━━━━━━━━━━━━━━━\u001b[0m\u001b[37m\u001b[0m \u001b[1m20s\u001b[0m 175ms/step - accuracy: 0.9022 - loss: 0.1328 - val_accuracy: 0.6533 - val_loss: 0.7280\n",
            "Epoch 5/5\n",
            "\u001b[1m73/73\u001b[0m \u001b[32m━━━━━━━━━━━━━━━━━━━━\u001b[0m\u001b[37m\u001b[0m \u001b[1m21s\u001b[0m 183ms/step - accuracy: 0.9084 - loss: 0.1201 - val_accuracy: 0.6524 - val_loss: 0.7504\n"
          ]
        },
        {
          "output_type": "execute_result",
          "data": {
            "text/plain": [
              "<keras.src.callbacks.history.History at 0x7f66b5dc7fd0>"
            ]
          },
          "metadata": {},
          "execution_count": 124
        }
      ]
    },
    {
      "cell_type": "code",
      "source": [
        "y_pred=(model.predict(x_test)>0.5).astype(\"int32\")\n",
        "print(classification_report(y_test,y_pred))"
      ],
      "metadata": {
        "colab": {
          "base_uri": "https://localhost:8080/"
        },
        "id": "C4kYov2f-4RP",
        "outputId": "fb61577d-425f-42fb-c15f-01337db67861"
      },
      "execution_count": null,
      "outputs": [
        {
          "output_type": "stream",
          "name": "stdout",
          "text": [
            "\u001b[1m37/37\u001b[0m \u001b[32m━━━━━━━━━━━━━━━━━━━━\u001b[0m\u001b[37m\u001b[0m \u001b[1m2s\u001b[0m 40ms/step\n",
            "              precision    recall  f1-score   support\n",
            "\n",
            "           0       0.33      0.27      0.30       173\n",
            "           1       0.71      0.73      0.72       617\n",
            "           2       0.69      0.68      0.68       378\n",
            "\n",
            "   micro avg       0.66      0.65      0.65      1168\n",
            "   macro avg       0.58      0.56      0.57      1168\n",
            "weighted avg       0.65      0.65      0.65      1168\n",
            " samples avg       0.65      0.65      0.65      1168\n",
            "\n"
          ]
        },
        {
          "output_type": "stream",
          "name": "stderr",
          "text": [
            "/usr/local/lib/python3.11/dist-packages/sklearn/metrics/_classification.py:1565: UndefinedMetricWarning: Precision is ill-defined and being set to 0.0 in samples with no predicted labels. Use `zero_division` parameter to control this behavior.\n",
            "  _warn_prf(average, modifier, f\"{metric.capitalize()} is\", len(result))\n"
          ]
        }
      ]
    },
    {
      "cell_type": "markdown",
      "source": [
        "Training accuracy is high (~91%), meaning the model fits the training data well.\n",
        "\n",
        "Validation accuracy is low and decreasing (~65%), meaning it's not generalizing — this is overfitting.\n",
        "\n",
        "To improve generalization, a great next step is to use an LSTM model with pretrained word embeddings, such as GloVe. This typically boosts performance, especially with limited data."
      ],
      "metadata": {
        "id": "XoRK33kciQg0"
      }
    },
    {
      "cell_type": "markdown",
      "source": [
        "**LSTM using Glove Word2vec**"
      ],
      "metadata": {
        "id": "S3949q1MhYk6"
      }
    },
    {
      "cell_type": "code",
      "source": [
        "from google.colab import files\n",
        "uploaded = files.upload()"
      ],
      "metadata": {
        "colab": {
          "base_uri": "https://localhost:8080/",
          "height": 73
        },
        "id": "GR38PISaLulN",
        "outputId": "9685daa1-f377-4e78-83db-3a24c2c36e8e"
      },
      "execution_count": null,
      "outputs": [
        {
          "output_type": "display_data",
          "data": {
            "text/plain": [
              "<IPython.core.display.HTML object>"
            ],
            "text/html": [
              "\n",
              "     <input type=\"file\" id=\"files-fb1fd10b-268d-446a-b50a-3c3290eacee9\" name=\"files[]\" multiple disabled\n",
              "        style=\"border:none\" />\n",
              "     <output id=\"result-fb1fd10b-268d-446a-b50a-3c3290eacee9\">\n",
              "      Upload widget is only available when the cell has been executed in the\n",
              "      current browser session. Please rerun this cell to enable.\n",
              "      </output>\n",
              "      <script>// Copyright 2017 Google LLC\n",
              "//\n",
              "// Licensed under the Apache License, Version 2.0 (the \"License\");\n",
              "// you may not use this file except in compliance with the License.\n",
              "// You may obtain a copy of the License at\n",
              "//\n",
              "//      http://www.apache.org/licenses/LICENSE-2.0\n",
              "//\n",
              "// Unless required by applicable law or agreed to in writing, software\n",
              "// distributed under the License is distributed on an \"AS IS\" BASIS,\n",
              "// WITHOUT WARRANTIES OR CONDITIONS OF ANY KIND, either express or implied.\n",
              "// See the License for the specific language governing permissions and\n",
              "// limitations under the License.\n",
              "\n",
              "/**\n",
              " * @fileoverview Helpers for google.colab Python module.\n",
              " */\n",
              "(function(scope) {\n",
              "function span(text, styleAttributes = {}) {\n",
              "  const element = document.createElement('span');\n",
              "  element.textContent = text;\n",
              "  for (const key of Object.keys(styleAttributes)) {\n",
              "    element.style[key] = styleAttributes[key];\n",
              "  }\n",
              "  return element;\n",
              "}\n",
              "\n",
              "// Max number of bytes which will be uploaded at a time.\n",
              "const MAX_PAYLOAD_SIZE = 100 * 1024;\n",
              "\n",
              "function _uploadFiles(inputId, outputId) {\n",
              "  const steps = uploadFilesStep(inputId, outputId);\n",
              "  const outputElement = document.getElementById(outputId);\n",
              "  // Cache steps on the outputElement to make it available for the next call\n",
              "  // to uploadFilesContinue from Python.\n",
              "  outputElement.steps = steps;\n",
              "\n",
              "  return _uploadFilesContinue(outputId);\n",
              "}\n",
              "\n",
              "// This is roughly an async generator (not supported in the browser yet),\n",
              "// where there are multiple asynchronous steps and the Python side is going\n",
              "// to poll for completion of each step.\n",
              "// This uses a Promise to block the python side on completion of each step,\n",
              "// then passes the result of the previous step as the input to the next step.\n",
              "function _uploadFilesContinue(outputId) {\n",
              "  const outputElement = document.getElementById(outputId);\n",
              "  const steps = outputElement.steps;\n",
              "\n",
              "  const next = steps.next(outputElement.lastPromiseValue);\n",
              "  return Promise.resolve(next.value.promise).then((value) => {\n",
              "    // Cache the last promise value to make it available to the next\n",
              "    // step of the generator.\n",
              "    outputElement.lastPromiseValue = value;\n",
              "    return next.value.response;\n",
              "  });\n",
              "}\n",
              "\n",
              "/**\n",
              " * Generator function which is called between each async step of the upload\n",
              " * process.\n",
              " * @param {string} inputId Element ID of the input file picker element.\n",
              " * @param {string} outputId Element ID of the output display.\n",
              " * @return {!Iterable<!Object>} Iterable of next steps.\n",
              " */\n",
              "function* uploadFilesStep(inputId, outputId) {\n",
              "  const inputElement = document.getElementById(inputId);\n",
              "  inputElement.disabled = false;\n",
              "\n",
              "  const outputElement = document.getElementById(outputId);\n",
              "  outputElement.innerHTML = '';\n",
              "\n",
              "  const pickedPromise = new Promise((resolve) => {\n",
              "    inputElement.addEventListener('change', (e) => {\n",
              "      resolve(e.target.files);\n",
              "    });\n",
              "  });\n",
              "\n",
              "  const cancel = document.createElement('button');\n",
              "  inputElement.parentElement.appendChild(cancel);\n",
              "  cancel.textContent = 'Cancel upload';\n",
              "  const cancelPromise = new Promise((resolve) => {\n",
              "    cancel.onclick = () => {\n",
              "      resolve(null);\n",
              "    };\n",
              "  });\n",
              "\n",
              "  // Wait for the user to pick the files.\n",
              "  const files = yield {\n",
              "    promise: Promise.race([pickedPromise, cancelPromise]),\n",
              "    response: {\n",
              "      action: 'starting',\n",
              "    }\n",
              "  };\n",
              "\n",
              "  cancel.remove();\n",
              "\n",
              "  // Disable the input element since further picks are not allowed.\n",
              "  inputElement.disabled = true;\n",
              "\n",
              "  if (!files) {\n",
              "    return {\n",
              "      response: {\n",
              "        action: 'complete',\n",
              "      }\n",
              "    };\n",
              "  }\n",
              "\n",
              "  for (const file of files) {\n",
              "    const li = document.createElement('li');\n",
              "    li.append(span(file.name, {fontWeight: 'bold'}));\n",
              "    li.append(span(\n",
              "        `(${file.type || 'n/a'}) - ${file.size} bytes, ` +\n",
              "        `last modified: ${\n",
              "            file.lastModifiedDate ? file.lastModifiedDate.toLocaleDateString() :\n",
              "                                    'n/a'} - `));\n",
              "    const percent = span('0% done');\n",
              "    li.appendChild(percent);\n",
              "\n",
              "    outputElement.appendChild(li);\n",
              "\n",
              "    const fileDataPromise = new Promise((resolve) => {\n",
              "      const reader = new FileReader();\n",
              "      reader.onload = (e) => {\n",
              "        resolve(e.target.result);\n",
              "      };\n",
              "      reader.readAsArrayBuffer(file);\n",
              "    });\n",
              "    // Wait for the data to be ready.\n",
              "    let fileData = yield {\n",
              "      promise: fileDataPromise,\n",
              "      response: {\n",
              "        action: 'continue',\n",
              "      }\n",
              "    };\n",
              "\n",
              "    // Use a chunked sending to avoid message size limits. See b/62115660.\n",
              "    let position = 0;\n",
              "    do {\n",
              "      const length = Math.min(fileData.byteLength - position, MAX_PAYLOAD_SIZE);\n",
              "      const chunk = new Uint8Array(fileData, position, length);\n",
              "      position += length;\n",
              "\n",
              "      const base64 = btoa(String.fromCharCode.apply(null, chunk));\n",
              "      yield {\n",
              "        response: {\n",
              "          action: 'append',\n",
              "          file: file.name,\n",
              "          data: base64,\n",
              "        },\n",
              "      };\n",
              "\n",
              "      let percentDone = fileData.byteLength === 0 ?\n",
              "          100 :\n",
              "          Math.round((position / fileData.byteLength) * 100);\n",
              "      percent.textContent = `${percentDone}% done`;\n",
              "\n",
              "    } while (position < fileData.byteLength);\n",
              "  }\n",
              "\n",
              "  // All done.\n",
              "  yield {\n",
              "    response: {\n",
              "      action: 'complete',\n",
              "    }\n",
              "  };\n",
              "}\n",
              "\n",
              "scope.google = scope.google || {};\n",
              "scope.google.colab = scope.google.colab || {};\n",
              "scope.google.colab._files = {\n",
              "  _uploadFiles,\n",
              "  _uploadFilesContinue,\n",
              "};\n",
              "})(self);\n",
              "</script> "
            ]
          },
          "metadata": {}
        },
        {
          "output_type": "stream",
          "name": "stdout",
          "text": [
            "Saving glove.6B.100d.txt to glove.6B.100d (1).txt\n"
          ]
        }
      ]
    },
    {
      "cell_type": "code",
      "source": [
        "embedding_dim = 100  # GloVe 100D\n",
        "\n",
        "# Load GloVe embeddings\n",
        "glove_dict = {}\n",
        "with open('glove.6B.100d.txt', encoding='utf8') as f:\n",
        "    for line in f:\n",
        "        values = line.split()\n",
        "        word = values[0]\n",
        "        vector = np.asarray(values[1:], dtype='float32')\n",
        "        glove_dict[word] = vector"
      ],
      "metadata": {
        "id": "94UO-RD84c7j"
      },
      "execution_count": null,
      "outputs": []
    },
    {
      "cell_type": "code",
      "source": [
        "\n",
        "tokenizer = Tokenizer()\n",
        "tokenizer.fit_on_texts(df[\"clean text\"])  # text_data = your list of text samples\n",
        "word_index = tokenizer.word_index"
      ],
      "metadata": {
        "id": "-J5aBJML6UOg"
      },
      "execution_count": null,
      "outputs": []
    },
    {
      "cell_type": "code",
      "source": [
        "vocab_size = len(word_index) + 1\n",
        "embedding_matrix = np.zeros((vocab_size, embedding_dim))\n",
        "\n",
        "for word, i in word_index.items():\n",
        "    embedding_vector = glove_dict.get(word)\n",
        "    if embedding_vector is not None:\n",
        "        embedding_matrix[i] = embedding_vector"
      ],
      "metadata": {
        "id": "itcrHCFd6ZYk"
      },
      "execution_count": null,
      "outputs": []
    },
    {
      "cell_type": "code",
      "source": [
        "from tensorflow.keras.models import Sequential\n",
        "from tensorflow.keras.layers import Embedding, LSTM, Dense, Dropout, SpatialDropout1D, Activation\n",
        "import tensorflow as tf\n",
        "\n",
        "model = Sequential()\n",
        "\n",
        "# Embedding layer using GloVe\n",
        "model.add(Embedding(input_dim=vocab_size,\n",
        "                    output_dim=embedding_dim,\n",
        "                    weights=[embedding_matrix],\n",
        "                    input_length=max_len,  # you must define this earlier\n",
        "                    trainable=False))\n",
        "\n",
        "model.add(SpatialDropout1D(0.3))\n",
        "model.add(LSTM(100, dropout=0.3, recurrent_dropout=0.3))  # match 100D input\n",
        "\n",
        "model.add(Dense(1024, activation='relu'))\n",
        "model.add(Dropout(0.8))\n",
        "\n",
        "model.add(Dense(1024, activation='relu'))\n",
        "model.add(Dropout(0.8))\n",
        "\n",
        "model.add(Dense(3))  # 3 output classes\n",
        "model.add(Activation('softmax'))\n",
        "\n",
        "model.compile(loss='categorical_crossentropy',\n",
        "              optimizer='adam',\n",
        "              metrics=[tf.keras.metrics.Precision()])"
      ],
      "metadata": {
        "colab": {
          "base_uri": "https://localhost:8080/"
        },
        "id": "NI0ghMsm6eRV",
        "outputId": "54d0d0c6-9f19-4457-8147-0ec77c21c01d"
      },
      "execution_count": null,
      "outputs": [
        {
          "output_type": "stream",
          "name": "stderr",
          "text": [
            "/usr/local/lib/python3.11/dist-packages/keras/src/layers/core/embedding.py:90: UserWarning: Argument `input_length` is deprecated. Just remove it.\n",
            "  warnings.warn(\n"
          ]
        }
      ]
    },
    {
      "cell_type": "code",
      "source": [
        "y=df[\"Sentiment\"]"
      ],
      "metadata": {
        "id": "_8Ro12Oj8HnD"
      },
      "execution_count": null,
      "outputs": []
    },
    {
      "cell_type": "code",
      "source": [
        "#one-hot encoding\n",
        "from tensorflow.keras.utils import to_categorical\n",
        "\n",
        "num_class=len(np.unique(y))\n",
        "\n",
        "y=to_categorical(y,num_classes=num_class)\n",
        "\n",
        "print(y.shape)"
      ],
      "metadata": {
        "colab": {
          "base_uri": "https://localhost:8080/"
        },
        "id": "91KyDRjF6wTL",
        "outputId": "714b964e-bf5c-4f60-e844-84ca31a03607"
      },
      "execution_count": null,
      "outputs": [
        {
          "output_type": "stream",
          "name": "stdout",
          "text": [
            "(5836, 3)\n"
          ]
        }
      ]
    },
    {
      "cell_type": "code",
      "source": [
        "x=paded_sequences"
      ],
      "metadata": {
        "id": "Uv7CtfRg8URP"
      },
      "execution_count": null,
      "outputs": []
    },
    {
      "cell_type": "code",
      "source": [
        "x_train, x_test, y_train, y_test = train_test_split(x, y, test_size=0.2, random_state=42)"
      ],
      "metadata": {
        "id": "z4BKvMjt6wYe"
      },
      "execution_count": null,
      "outputs": []
    },
    {
      "cell_type": "code",
      "source": [
        "x_train=pad_sequences(x_train,maxlen=max_len)\n",
        "x_test=pad_sequences(x_test,maxlen=max_len)"
      ],
      "metadata": {
        "id": "OKuxz45P80yc"
      },
      "execution_count": null,
      "outputs": []
    },
    {
      "cell_type": "code",
      "source": [
        "history = model.fit(x_train, y_train,\n",
        "                    epochs=25,\n",
        "                    batch_size=64,\n",
        "                    validation_data=(x_test, y_test))"
      ],
      "metadata": {
        "colab": {
          "base_uri": "https://localhost:8080/"
        },
        "id": "-7vvksGc7WUl",
        "outputId": "923f9c83-26d4-419e-e878-f4b1860272e7"
      },
      "execution_count": null,
      "outputs": [
        {
          "output_type": "stream",
          "name": "stdout",
          "text": [
            "Epoch 1/25\n",
            "\u001b[1m73/73\u001b[0m \u001b[32m━━━━━━━━━━━━━━━━━━━━\u001b[0m\u001b[37m\u001b[0m \u001b[1m12s\u001b[0m 161ms/step - loss: 0.5034 - precision: 0.8294 - val_loss: 0.6440 - val_precision: 0.7651\n",
            "Epoch 2/25\n",
            "\u001b[1m73/73\u001b[0m \u001b[32m━━━━━━━━━━━━━━━━━━━━\u001b[0m\u001b[37m\u001b[0m \u001b[1m19s\u001b[0m 138ms/step - loss: 0.4944 - precision: 0.8307 - val_loss: 0.6224 - val_precision: 0.7881\n",
            "Epoch 3/25\n",
            "\u001b[1m73/73\u001b[0m \u001b[32m━━━━━━━━━━━━━━━━━━━━\u001b[0m\u001b[37m\u001b[0m \u001b[1m10s\u001b[0m 134ms/step - loss: 0.4967 - precision: 0.8265 - val_loss: 0.6337 - val_precision: 0.7811\n",
            "Epoch 4/25\n",
            "\u001b[1m73/73\u001b[0m \u001b[32m━━━━━━━━━━━━━━━━━━━━\u001b[0m\u001b[37m\u001b[0m \u001b[1m9s\u001b[0m 115ms/step - loss: 0.4993 - precision: 0.8269 - val_loss: 0.6380 - val_precision: 0.7761\n",
            "Epoch 5/25\n",
            "\u001b[1m73/73\u001b[0m \u001b[32m━━━━━━━━━━━━━━━━━━━━\u001b[0m\u001b[37m\u001b[0m \u001b[1m11s\u001b[0m 128ms/step - loss: 0.4727 - precision: 0.8318 - val_loss: 0.6688 - val_precision: 0.7697\n",
            "Epoch 6/25\n",
            "\u001b[1m73/73\u001b[0m \u001b[32m━━━━━━━━━━━━━━━━━━━━\u001b[0m\u001b[37m\u001b[0m \u001b[1m11s\u001b[0m 134ms/step - loss: 0.4752 - precision: 0.8261 - val_loss: 0.6352 - val_precision: 0.7877\n",
            "Epoch 7/25\n",
            "\u001b[1m73/73\u001b[0m \u001b[32m━━━━━━━━━━━━━━━━━━━━\u001b[0m\u001b[37m\u001b[0m \u001b[1m10s\u001b[0m 136ms/step - loss: 0.5008 - precision: 0.8185 - val_loss: 0.6540 - val_precision: 0.7705\n",
            "Epoch 8/25\n",
            "\u001b[1m73/73\u001b[0m \u001b[32m━━━━━━━━━━━━━━━━━━━━\u001b[0m\u001b[37m\u001b[0m \u001b[1m8s\u001b[0m 113ms/step - loss: 0.4774 - precision: 0.8190 - val_loss: 0.6256 - val_precision: 0.7771\n",
            "Epoch 9/25\n",
            "\u001b[1m73/73\u001b[0m \u001b[32m━━━━━━━━━━━━━━━━━━━━\u001b[0m\u001b[37m\u001b[0m \u001b[1m12s\u001b[0m 130ms/step - loss: 0.4758 - precision: 0.8248 - val_loss: 0.6136 - val_precision: 0.7866\n",
            "Epoch 10/25\n",
            "\u001b[1m73/73\u001b[0m \u001b[32m━━━━━━━━━━━━━━━━━━━━\u001b[0m\u001b[37m\u001b[0m \u001b[1m10s\u001b[0m 136ms/step - loss: 0.4919 - precision: 0.8244 - val_loss: 0.6367 - val_precision: 0.7741\n",
            "Epoch 11/25\n",
            "\u001b[1m73/73\u001b[0m \u001b[32m━━━━━━━━━━━━━━━━━━━━\u001b[0m\u001b[37m\u001b[0m \u001b[1m10s\u001b[0m 128ms/step - loss: 0.4852 - precision: 0.8270 - val_loss: 0.6641 - val_precision: 0.7658\n",
            "Epoch 12/25\n",
            "\u001b[1m73/73\u001b[0m \u001b[32m━━━━━━━━━━━━━━━━━━━━\u001b[0m\u001b[37m\u001b[0m \u001b[1m9s\u001b[0m 115ms/step - loss: 0.4669 - precision: 0.8405 - val_loss: 0.6463 - val_precision: 0.7771\n",
            "Epoch 13/25\n",
            "\u001b[1m73/73\u001b[0m \u001b[32m━━━━━━━━━━━━━━━━━━━━\u001b[0m\u001b[37m\u001b[0m \u001b[1m12s\u001b[0m 135ms/step - loss: 0.4691 - precision: 0.8313 - val_loss: 0.6801 - val_precision: 0.7552\n",
            "Epoch 14/25\n",
            "\u001b[1m73/73\u001b[0m \u001b[32m━━━━━━━━━━━━━━━━━━━━\u001b[0m\u001b[37m\u001b[0m \u001b[1m10s\u001b[0m 136ms/step - loss: 0.4701 - precision: 0.8349 - val_loss: 0.6430 - val_precision: 0.7621\n",
            "Epoch 15/25\n",
            "\u001b[1m73/73\u001b[0m \u001b[32m━━━━━━━━━━━━━━━━━━━━\u001b[0m\u001b[37m\u001b[0m \u001b[1m10s\u001b[0m 133ms/step - loss: 0.4735 - precision: 0.8324 - val_loss: 0.6606 - val_precision: 0.7768\n",
            "Epoch 16/25\n",
            "\u001b[1m73/73\u001b[0m \u001b[32m━━━━━━━━━━━━━━━━━━━━\u001b[0m\u001b[37m\u001b[0m \u001b[1m9s\u001b[0m 116ms/step - loss: 0.4682 - precision: 0.8328 - val_loss: 0.6980 - val_precision: 0.7778\n",
            "Epoch 17/25\n",
            "\u001b[1m73/73\u001b[0m \u001b[32m━━━━━━━━━━━━━━━━━━━━\u001b[0m\u001b[37m\u001b[0m \u001b[1m12s\u001b[0m 133ms/step - loss: 0.4782 - precision: 0.8355 - val_loss: 0.6569 - val_precision: 0.7847\n",
            "Epoch 18/25\n",
            "\u001b[1m73/73\u001b[0m \u001b[32m━━━━━━━━━━━━━━━━━━━━\u001b[0m\u001b[37m\u001b[0m \u001b[1m11s\u001b[0m 138ms/step - loss: 0.4690 - precision: 0.8354 - val_loss: 0.6893 - val_precision: 0.7727\n",
            "Epoch 19/25\n",
            "\u001b[1m73/73\u001b[0m \u001b[32m━━━━━━━━━━━━━━━━━━━━\u001b[0m\u001b[37m\u001b[0m \u001b[1m10s\u001b[0m 142ms/step - loss: 0.4618 - precision: 0.8399 - val_loss: 0.6361 - val_precision: 0.7762\n",
            "Epoch 20/25\n",
            "\u001b[1m73/73\u001b[0m \u001b[32m━━━━━━━━━━━━━━━━━━━━\u001b[0m\u001b[37m\u001b[0m \u001b[1m20s\u001b[0m 130ms/step - loss: 0.4354 - precision: 0.8443 - val_loss: 0.6690 - val_precision: 0.7800\n",
            "Epoch 21/25\n",
            "\u001b[1m73/73\u001b[0m \u001b[32m━━━━━━━━━━━━━━━━━━━━\u001b[0m\u001b[37m\u001b[0m \u001b[1m11s\u001b[0m 138ms/step - loss: 0.4560 - precision: 0.8227 - val_loss: 0.6411 - val_precision: 0.7765\n",
            "Epoch 22/25\n",
            "\u001b[1m73/73\u001b[0m \u001b[32m━━━━━━━━━━━━━━━━━━━━\u001b[0m\u001b[37m\u001b[0m \u001b[1m10s\u001b[0m 135ms/step - loss: 0.4505 - precision: 0.8417 - val_loss: 0.6435 - val_precision: 0.7799\n",
            "Epoch 23/25\n",
            "\u001b[1m73/73\u001b[0m \u001b[32m━━━━━━━━━━━━━━━━━━━━\u001b[0m\u001b[37m\u001b[0m \u001b[1m9s\u001b[0m 113ms/step - loss: 0.4382 - precision: 0.8407 - val_loss: 0.6421 - val_precision: 0.7861\n",
            "Epoch 24/25\n",
            "\u001b[1m73/73\u001b[0m \u001b[32m━━━━━━━━━━━━━━━━━━━━\u001b[0m\u001b[37m\u001b[0m \u001b[1m11s\u001b[0m 129ms/step - loss: 0.4420 - precision: 0.8470 - val_loss: 0.6673 - val_precision: 0.7598\n",
            "Epoch 25/25\n",
            "\u001b[1m73/73\u001b[0m \u001b[32m━━━━━━━━━━━━━━━━━━━━\u001b[0m\u001b[37m\u001b[0m \u001b[1m11s\u001b[0m 139ms/step - loss: 0.4509 - precision: 0.8397 - val_loss: 0.6903 - val_precision: 0.7734\n"
          ]
        }
      ]
    },
    {
      "cell_type": "markdown",
      "source": [
        "Precision (training and validation) is consistently good — training precision reaches ~0.84, and validation precision stays around ~0.77–0.78.\n",
        "\n",
        "The model isn't overfitting severely — precision doesn't collapse, and the validation scores are stable.\n",
        "\n",
        "Validation loss is not consistently decreasing — it bounces around 0.63 to 0.69, suggesting the model is not learning much new after ~epoch 9.\n",
        "\n",
        "After epoch 9, validation precision stops improving, which is a sign of early convergence (the model is done learning).\n",
        "\n",
        "Training continues unnecessarily after epoch 10–15, which wastes time and might risk overfitting.\n",
        "so we Use EarlyStopping"
      ],
      "metadata": {
        "id": "OHKLxUYsCKTF"
      }
    },
    {
      "cell_type": "markdown",
      "source": [
        "**LSTM Glov and early stopping**"
      ],
      "metadata": {
        "id": "bTtnJvLhCgIO"
      }
    },
    {
      "cell_type": "code",
      "source": [
        "model = Sequential()\n",
        "model.add(Embedding(len(tokenizer.word_index) + 1,\n",
        "                     100,\n",
        "                     weights=[embedding_matrix],\n",
        "                     trainable=False))\n",
        "model.add(SpatialDropout1D(0.3))\n",
        "model.add(LSTM(300, dropout=0.3, recurrent_dropout=0.3))\n",
        "\n",
        "model.add(Dense(1024, activation='relu'))\n",
        "model.add(Dropout(0.8))\n",
        "\n",
        "model.add(Dense(1024, activation='relu'))\n",
        "model.add(Dropout(0.8))\n",
        "\n",
        "model.add(Dense(3))\n",
        "model.add(Activation('softmax'))\n",
        "model.compile(loss='categorical_crossentropy', optimizer='adam', metrics = [tf.keras.metrics.Precision()])\n",
        "\n"
      ],
      "metadata": {
        "id": "rbxX6JpFyL5k"
      },
      "execution_count": null,
      "outputs": []
    },
    {
      "cell_type": "code",
      "source": [
        "\n",
        "# Fit the model with early stopping callback\n",
        "earlystop = EarlyStopping(monitor='val_loss', min_delta=0, patience=3, verbose=0, mode='auto')\n",
        "\n",
        "model.fit(x_train, y=y_train, batch_size=64, epochs=25,\n",
        "          verbose=1, validation_data = (x_test,y_test), callbacks=[earlystop])"
      ],
      "metadata": {
        "colab": {
          "base_uri": "https://localhost:8080/"
        },
        "id": "7BcVXp84DcJX",
        "outputId": "39b3f895-eb39-4608-9a09-e823e977f2a4"
      },
      "execution_count": null,
      "outputs": [
        {
          "output_type": "stream",
          "name": "stdout",
          "text": [
            "Epoch 1/25\n",
            "\u001b[1m73/73\u001b[0m \u001b[32m━━━━━━━━━━━━━━━━━━━━\u001b[0m\u001b[37m\u001b[0m \u001b[1m53s\u001b[0m 569ms/step - loss: 1.0268 - precision_1: 0.5441 - val_loss: 0.8935 - val_precision_1: 0.8087\n",
            "Epoch 2/25\n",
            "\u001b[1m73/73\u001b[0m \u001b[32m━━━━━━━━━━━━━━━━━━━━\u001b[0m\u001b[37m\u001b[0m \u001b[1m41s\u001b[0m 557ms/step - loss: 0.9345 - precision_1: 0.6369 - val_loss: 0.8673 - val_precision_1: 0.8056\n",
            "Epoch 3/25\n",
            "\u001b[1m73/73\u001b[0m \u001b[32m━━━━━━━━━━━━━━━━━━━━\u001b[0m\u001b[37m\u001b[0m \u001b[1m41s\u001b[0m 558ms/step - loss: 0.9251 - precision_1: 0.6308 - val_loss: 0.8391 - val_precision_1: 0.7596\n",
            "Epoch 4/25\n",
            "\u001b[1m73/73\u001b[0m \u001b[32m━━━━━━━━━━━━━━━━━━━━\u001b[0m\u001b[37m\u001b[0m \u001b[1m45s\u001b[0m 613ms/step - loss: 0.8909 - precision_1: 0.6787 - val_loss: 0.8491 - val_precision_1: 0.8011\n",
            "Epoch 5/25\n",
            "\u001b[1m73/73\u001b[0m \u001b[32m━━━━━━━━━━━━━━━━━━━━\u001b[0m\u001b[37m\u001b[0m \u001b[1m94s\u001b[0m 782ms/step - loss: 0.8962 - precision_1: 0.6694 - val_loss: 0.7977 - val_precision_1: 0.7647\n",
            "Epoch 6/25\n",
            "\u001b[1m73/73\u001b[0m \u001b[32m━━━━━━━━━━━━━━━━━━━━\u001b[0m\u001b[37m\u001b[0m \u001b[1m65s\u001b[0m 541ms/step - loss: 0.8774 - precision_1: 0.6641 - val_loss: 0.8201 - val_precision_1: 0.7774\n",
            "Epoch 7/25\n",
            "\u001b[1m73/73\u001b[0m \u001b[32m━━━━━━━━━━━━━━━━━━━━\u001b[0m\u001b[37m\u001b[0m \u001b[1m43s\u001b[0m 575ms/step - loss: 0.8522 - precision_1: 0.6948 - val_loss: 0.7999 - val_precision_1: 0.7786\n",
            "Epoch 8/25\n",
            "\u001b[1m73/73\u001b[0m \u001b[32m━━━━━━━━━━━━━━━━━━━━\u001b[0m\u001b[37m\u001b[0m \u001b[1m81s\u001b[0m 561ms/step - loss: 0.8531 - precision_1: 0.6774 - val_loss: 0.7870 - val_precision_1: 0.7812\n",
            "Epoch 9/25\n",
            "\u001b[1m73/73\u001b[0m \u001b[32m━━━━━━━━━━━━━━━━━━━━\u001b[0m\u001b[37m\u001b[0m \u001b[1m41s\u001b[0m 558ms/step - loss: 0.8395 - precision_1: 0.6880 - val_loss: 0.7628 - val_precision_1: 0.7766\n",
            "Epoch 10/25\n",
            "\u001b[1m73/73\u001b[0m \u001b[32m━━━━━━━━━━━━━━━━━━━━\u001b[0m\u001b[37m\u001b[0m \u001b[1m41s\u001b[0m 555ms/step - loss: 0.8300 - precision_1: 0.7045 - val_loss: 0.7845 - val_precision_1: 0.7652\n",
            "Epoch 11/25\n",
            "\u001b[1m73/73\u001b[0m \u001b[32m━━━━━━━━━━━━━━━━━━━━\u001b[0m\u001b[37m\u001b[0m \u001b[1m42s\u001b[0m 563ms/step - loss: 0.8185 - precision_1: 0.7045 - val_loss: 0.7355 - val_precision_1: 0.7646\n",
            "Epoch 12/25\n",
            "\u001b[1m73/73\u001b[0m \u001b[32m━━━━━━━━━━━━━━━━━━━━\u001b[0m\u001b[37m\u001b[0m \u001b[1m82s\u001b[0m 560ms/step - loss: 0.7843 - precision_1: 0.7178 - val_loss: 0.7627 - val_precision_1: 0.7905\n",
            "Epoch 13/25\n",
            "\u001b[1m73/73\u001b[0m \u001b[32m━━━━━━━━━━━━━━━━━━━━\u001b[0m\u001b[37m\u001b[0m \u001b[1m41s\u001b[0m 555ms/step - loss: 0.7855 - precision_1: 0.7312 - val_loss: 0.7324 - val_precision_1: 0.7813\n",
            "Epoch 14/25\n",
            "\u001b[1m73/73\u001b[0m \u001b[32m━━━━━━━━━━━━━━━━━━━━\u001b[0m\u001b[37m\u001b[0m \u001b[1m41s\u001b[0m 561ms/step - loss: 0.7672 - precision_1: 0.7347 - val_loss: 0.7336 - val_precision_1: 0.7659\n",
            "Epoch 15/25\n",
            "\u001b[1m73/73\u001b[0m \u001b[32m━━━━━━━━━━━━━━━━━━━━\u001b[0m\u001b[37m\u001b[0m \u001b[1m41s\u001b[0m 560ms/step - loss: 0.7703 - precision_1: 0.7143 - val_loss: 0.7396 - val_precision_1: 0.7753\n",
            "Epoch 16/25\n",
            "\u001b[1m73/73\u001b[0m \u001b[32m━━━━━━━━━━━━━━━━━━━━\u001b[0m\u001b[37m\u001b[0m \u001b[1m41s\u001b[0m 554ms/step - loss: 0.7505 - precision_1: 0.7397 - val_loss: 0.6952 - val_precision_1: 0.7854\n",
            "Epoch 17/25\n",
            "\u001b[1m73/73\u001b[0m \u001b[32m━━━━━━━━━━━━━━━━━━━━\u001b[0m\u001b[37m\u001b[0m \u001b[1m41s\u001b[0m 567ms/step - loss: 0.7455 - precision_1: 0.7349 - val_loss: 0.7269 - val_precision_1: 0.8061\n",
            "Epoch 18/25\n",
            "\u001b[1m73/73\u001b[0m \u001b[32m━━━━━━━━━━━━━━━━━━━━\u001b[0m\u001b[37m\u001b[0m \u001b[1m80s\u001b[0m 541ms/step - loss: 0.7386 - precision_1: 0.7469 - val_loss: 0.6892 - val_precision_1: 0.7856\n",
            "Epoch 19/25\n",
            "\u001b[1m73/73\u001b[0m \u001b[32m━━━━━━━━━━━━━━━━━━━━\u001b[0m\u001b[37m\u001b[0m \u001b[1m41s\u001b[0m 543ms/step - loss: 0.6986 - precision_1: 0.7629 - val_loss: 0.6847 - val_precision_1: 0.7723\n",
            "Epoch 20/25\n",
            "\u001b[1m73/73\u001b[0m \u001b[32m━━━━━━━━━━━━━━━━━━━━\u001b[0m\u001b[37m\u001b[0m \u001b[1m43s\u001b[0m 574ms/step - loss: 0.6927 - precision_1: 0.7615 - val_loss: 0.6813 - val_precision_1: 0.7887\n",
            "Epoch 21/25\n",
            "\u001b[1m73/73\u001b[0m \u001b[32m━━━━━━━━━━━━━━━━━━━━\u001b[0m\u001b[37m\u001b[0m \u001b[1m81s\u001b[0m 558ms/step - loss: 0.7138 - precision_1: 0.7533 - val_loss: 0.6623 - val_precision_1: 0.7954\n",
            "Epoch 22/25\n",
            "\u001b[1m73/73\u001b[0m \u001b[32m━━━━━━━━━━━━━━━━━━━━\u001b[0m\u001b[37m\u001b[0m \u001b[1m41s\u001b[0m 560ms/step - loss: 0.6813 - precision_1: 0.7628 - val_loss: 0.6638 - val_precision_1: 0.7778\n",
            "Epoch 23/25\n",
            "\u001b[1m73/73\u001b[0m \u001b[32m━━━━━━━━━━━━━━━━━━━━\u001b[0m\u001b[37m\u001b[0m \u001b[1m41s\u001b[0m 557ms/step - loss: 0.6776 - precision_1: 0.7621 - val_loss: 0.6601 - val_precision_1: 0.7832\n",
            "Epoch 24/25\n",
            "\u001b[1m73/73\u001b[0m \u001b[32m━━━━━━━━━━━━━━━━━━━━\u001b[0m\u001b[37m\u001b[0m \u001b[1m41s\u001b[0m 563ms/step - loss: 0.6571 - precision_1: 0.7798 - val_loss: 0.6761 - val_precision_1: 0.7856\n",
            "Epoch 25/25\n",
            "\u001b[1m73/73\u001b[0m \u001b[32m━━━━━━━━━━━━━━━━━━━━\u001b[0m\u001b[37m\u001b[0m \u001b[1m41s\u001b[0m 557ms/step - loss: 0.6558 - precision_1: 0.7772 - val_loss: 0.6533 - val_precision_1: 0.7881\n"
          ]
        },
        {
          "output_type": "execute_result",
          "data": {
            "text/plain": [
              "<keras.src.callbacks.history.History at 0x7d6725b78110>"
            ]
          },
          "metadata": {},
          "execution_count": 59
        }
      ]
    },
    {
      "cell_type": "markdown",
      "source": [
        "training precision improved from 0.54 to ~0.78.\n",
        "Validation precision remained consistently high (~0.76–0.80), this shows stable generalization.\n",
        "Validation loss gradually dropped from 0.89 → 0.65, meaning your model became more confident in its predictions on unseen data.\n",
        "model learned steadily without overfitting\n",
        "The EarlyStopping helped prevent wasting time after model performance plateaued.\n",
        "The final precision of 0.7881 on validation is strong\n",
        "LSTM model with GloVe embeddings, trained with EarlyStopping, achieved stable and strong validation precision (~0.79) with decreasing loss, showing that it learned the task well and generalized safely. EarlyStopping ensured that you didn’t train unnecessarily long after reaching peak performance."
      ],
      "metadata": {
        "id": "0daYV-4i5ZY5"
      }
    },
    {
      "cell_type": "markdown",
      "source": [
        "**bidirectional LSTM**"
      ],
      "metadata": {
        "id": "bstH5mEf_oF5"
      }
    },
    {
      "cell_type": "code",
      "source": [
        "model_bi = Sequential()\n",
        "model_bi.add(Embedding(len(word_index)+1, 300, weights=[embedding_matrix], trainable = False))\n",
        "\n",
        "model_bi.add(SpatialDropout1D(0.3))\n",
        "model_bi.add(Bidirectional(LSTM(300, dropout = 0.3, recurrent_dropout = 0.3)))\n",
        "\n",
        "model_bi.add(Dense(1024, activation = 'relu'))\n",
        "model_bi.add(Dropout(0.8))\n",
        "\n",
        "model_bi.add(Dense(1024, activation = 'relu'))\n",
        "model_bi.add(Dropout(0.8))\n",
        "\n",
        "model_bi.add(Dense(3))\n",
        "model_bi.add(Activation('softmax'))\n",
        "model_bi.compile(loss = 'categorical_crossentropy', optimizer = 'adam', metrics = tf.keras.metrics.Precision())\n",
        "\n"
      ],
      "metadata": {
        "id": "TqCNMzZG5tg9"
      },
      "execution_count": null,
      "outputs": []
    },
    {
      "cell_type": "code",
      "source": [
        "earlystop = EarlyStopping(monitor = 'val_loss', min_delta = 0, patience = 3, verbose = 0, mode = 'auto')\n",
        "model_bi.fit(x_train), y=y_train, batch_size = 64, epochs = 25, verbose=1, validation_data = (x_test, y_test),callbacks = [earlystop])\n",
        "\n",
        "y_pred = model_bi.predict(x_test)"
      ],
      "metadata": {
        "id": "dR9E0tvZ_0-p"
      },
      "execution_count": null,
      "outputs": []
    }
  ]
}